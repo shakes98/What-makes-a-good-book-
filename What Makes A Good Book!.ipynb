{
 "cells": [
  {
   "cell_type": "markdown",
   "metadata": {},
   "source": [
    "# What makes a good book?"
   ]
  },
  {
   "cell_type": "markdown",
   "metadata": {},
   "source": [
    "## Introduction\n",
    "\n",
    "In this project, I will be conducting some exploratory data analysis using some data from Google Books.\n",
    "\n",
    "I found this data set on Kaggle by Bilal Yussef. If you want to check this out yourself, here is the link: https://www.kaggle.com/bilalyussef/google-books-dataset?select=google_books_1299.csv\n",
    "\n",
    "During this analysis I will be using 5 of the steps in the CRISP-DM process taught from the Udacity Data Science nanodegree:\n",
    "1. __Business Understanding__\n",
    "2. __Data Understanding__\n",
    "3. __Data Preparation__\n",
    "4. Modelling\n",
    "5. __Evaluation__\n",
    "6. __Deploy__\n",
    "\n",
    "I will be also making sure to follow the process of: Gather, Assess, Clean, Analyse, (Model) and Visualise the data\n",
    "\n",
    "I will not be using the modelling step in this instance, as the questions I am looking to answer involve more of exploratory data analysis. However, if I had a larger data set (that could be split into test and train) it would be interesting to see if it is possible to predict the rating of a book based on its features"
   ]
  },
  {
   "cell_type": "markdown",
   "metadata": {},
   "source": [
    "## Business Understanding"
   ]
  },
  {
   "cell_type": "markdown",
   "metadata": {},
   "source": [
    "To understand the data set some more and try and understand if any features, such as genre, author, price or length impact whether a book is regarded as 'good' we will answer the following questions:\n",
    "\n",
    "1. What are the highest rated books?\n",
    "2. Who are the highest rated authors?\n",
    "3. Does length of the book impact the rating?\n",
    "4. Does the price of the book impact the rating?\n",
    "5. What genres appear are most common?\n"
   ]
  },
  {
   "cell_type": "markdown",
   "metadata": {},
   "source": [
    "## Data Understanding"
   ]
  },
  {
   "cell_type": "markdown",
   "metadata": {},
   "source": [
    "### Import the libraries"
   ]
  },
  {
   "cell_type": "code",
   "execution_count": 1,
   "metadata": {},
   "outputs": [],
   "source": [
    "#Load the libraries\n",
    "\n",
    "import numpy as np \n",
    "import pandas as pd \n",
    "import matplotlib.pyplot as plt\n",
    "import seaborn as sns\n",
    "from sklearn.linear_model import LinearRegression\n",
    "%matplotlib inline"
   ]
  },
  {
   "cell_type": "markdown",
   "metadata": {},
   "source": [
    "### GATHER -  Import data"
   ]
  },
  {
   "cell_type": "code",
   "execution_count": 2,
   "metadata": {},
   "outputs": [],
   "source": [
    "# need to index col as in excel data set there is an unnamed column of indexes\n",
    "# Need to save the data frame locally to access it using this code\n",
    "\n",
    "df = pd.read_csv('./google_books_1299.csv', index_col=0)"
   ]
  },
  {
   "cell_type": "markdown",
   "metadata": {},
   "source": [
    "### ASSESS - Understand the data"
   ]
  },
  {
   "cell_type": "code",
   "execution_count": 3,
   "metadata": {},
   "outputs": [
    {
     "data": {
      "text/html": [
       "<div>\n",
       "<style scoped>\n",
       "    .dataframe tbody tr th:only-of-type {\n",
       "        vertical-align: middle;\n",
       "    }\n",
       "\n",
       "    .dataframe tbody tr th {\n",
       "        vertical-align: top;\n",
       "    }\n",
       "\n",
       "    .dataframe thead th {\n",
       "        text-align: right;\n",
       "    }\n",
       "</style>\n",
       "<table border=\"1\" class=\"dataframe\">\n",
       "  <thead>\n",
       "    <tr style=\"text-align: right;\">\n",
       "      <th></th>\n",
       "      <th>title</th>\n",
       "      <th>author</th>\n",
       "      <th>rating</th>\n",
       "      <th>voters</th>\n",
       "      <th>price</th>\n",
       "      <th>currency</th>\n",
       "      <th>description</th>\n",
       "      <th>publisher</th>\n",
       "      <th>page_count</th>\n",
       "      <th>generes</th>\n",
       "      <th>ISBN</th>\n",
       "      <th>language</th>\n",
       "      <th>published_date</th>\n",
       "    </tr>\n",
       "  </thead>\n",
       "  <tbody>\n",
       "    <tr>\n",
       "      <th>0</th>\n",
       "      <td>Attack on Titan: Volume 13</td>\n",
       "      <td>Hajime Isayama</td>\n",
       "      <td>4.6</td>\n",
       "      <td>428</td>\n",
       "      <td>43.28</td>\n",
       "      <td>SAR</td>\n",
       "      <td>NO SAFE PLACE LEFT At great cost to the Garris...</td>\n",
       "      <td>Kodansha Comics</td>\n",
       "      <td>192</td>\n",
       "      <td>none</td>\n",
       "      <td>9781612626864</td>\n",
       "      <td>English</td>\n",
       "      <td>Jul 31, 2014</td>\n",
       "    </tr>\n",
       "    <tr>\n",
       "      <th>1</th>\n",
       "      <td>Antiques Roadkill: A Trash 'n' Treasures Mystery</td>\n",
       "      <td>Barbara Allan</td>\n",
       "      <td>3.3</td>\n",
       "      <td>23</td>\n",
       "      <td>26.15</td>\n",
       "      <td>SAR</td>\n",
       "      <td>Determined to make a new start in her quaint h...</td>\n",
       "      <td>Kensington Publishing Corp.</td>\n",
       "      <td>288</td>\n",
       "      <td>Fiction , Mystery &amp;amp, Detective , Cozy , Gen...</td>\n",
       "      <td>9780758272799</td>\n",
       "      <td>English</td>\n",
       "      <td>Jul 1, 2007</td>\n",
       "    </tr>\n",
       "    <tr>\n",
       "      <th>2</th>\n",
       "      <td>The Art of Super Mario Odyssey</td>\n",
       "      <td>Nintendo</td>\n",
       "      <td>3.9</td>\n",
       "      <td>9</td>\n",
       "      <td>133.85</td>\n",
       "      <td>SAR</td>\n",
       "      <td>Take a globetrotting journey all over the worl...</td>\n",
       "      <td>Dark Horse Comics</td>\n",
       "      <td>368</td>\n",
       "      <td>Games &amp;amp, Activities , Video &amp;amp, Electronic</td>\n",
       "      <td>9781506713816</td>\n",
       "      <td>English</td>\n",
       "      <td>Nov 5, 2019</td>\n",
       "    </tr>\n",
       "    <tr>\n",
       "      <th>3</th>\n",
       "      <td>Getting Away Is Deadly: An Ellie Avery Mystery</td>\n",
       "      <td>Sara Rosett</td>\n",
       "      <td>4.0</td>\n",
       "      <td>10</td>\n",
       "      <td>26.15</td>\n",
       "      <td>SAR</td>\n",
       "      <td>With swollen feet and swelling belly, pregnant...</td>\n",
       "      <td>Kensington Publishing Corp.</td>\n",
       "      <td>320</td>\n",
       "      <td>none</td>\n",
       "      <td>9781617734076</td>\n",
       "      <td>English</td>\n",
       "      <td>Mar 1, 2009</td>\n",
       "    </tr>\n",
       "    <tr>\n",
       "      <th>4</th>\n",
       "      <td>The Painted Man (The Demon Cycle, Book 1)</td>\n",
       "      <td>Peter V. Brett</td>\n",
       "      <td>4.5</td>\n",
       "      <td>577</td>\n",
       "      <td>28.54</td>\n",
       "      <td>SAR</td>\n",
       "      <td>The stunning debut fantasy novel from author P...</td>\n",
       "      <td>HarperCollins UK</td>\n",
       "      <td>544</td>\n",
       "      <td>Fiction , Fantasy , Dark Fantasy</td>\n",
       "      <td>9780007287758</td>\n",
       "      <td>English</td>\n",
       "      <td>Jan 8, 2009</td>\n",
       "    </tr>\n",
       "  </tbody>\n",
       "</table>\n",
       "</div>"
      ],
      "text/plain": [
       "                                              title          author  rating  \\\n",
       "0                        Attack on Titan: Volume 13  Hajime Isayama     4.6   \n",
       "1  Antiques Roadkill: A Trash 'n' Treasures Mystery   Barbara Allan     3.3   \n",
       "2                    The Art of Super Mario Odyssey        Nintendo     3.9   \n",
       "3    Getting Away Is Deadly: An Ellie Avery Mystery     Sara Rosett     4.0   \n",
       "4         The Painted Man (The Demon Cycle, Book 1)  Peter V. Brett     4.5   \n",
       "\n",
       "  voters   price currency                                        description  \\\n",
       "0    428   43.28      SAR  NO SAFE PLACE LEFT At great cost to the Garris...   \n",
       "1     23   26.15      SAR  Determined to make a new start in her quaint h...   \n",
       "2      9  133.85      SAR  Take a globetrotting journey all over the worl...   \n",
       "3     10   26.15      SAR  With swollen feet and swelling belly, pregnant...   \n",
       "4    577   28.54      SAR  The stunning debut fantasy novel from author P...   \n",
       "\n",
       "                     publisher  page_count  \\\n",
       "0              Kodansha Comics         192   \n",
       "1  Kensington Publishing Corp.         288   \n",
       "2            Dark Horse Comics         368   \n",
       "3  Kensington Publishing Corp.         320   \n",
       "4             HarperCollins UK         544   \n",
       "\n",
       "                                             generes           ISBN language  \\\n",
       "0                                               none  9781612626864  English   \n",
       "1  Fiction , Mystery &amp, Detective , Cozy , Gen...  9780758272799  English   \n",
       "2    Games &amp, Activities , Video &amp, Electronic  9781506713816  English   \n",
       "3                                               none  9781617734076  English   \n",
       "4                   Fiction , Fantasy , Dark Fantasy  9780007287758  English   \n",
       "\n",
       "  published_date  \n",
       "0   Jul 31, 2014  \n",
       "1    Jul 1, 2007  \n",
       "2    Nov 5, 2019  \n",
       "3    Mar 1, 2009  \n",
       "4    Jan 8, 2009  "
      ]
     },
     "execution_count": 3,
     "metadata": {},
     "output_type": "execute_result"
    }
   ],
   "source": [
    "#view a section of the data\n",
    "df.head()"
   ]
  },
  {
   "cell_type": "code",
   "execution_count": 4,
   "metadata": {},
   "outputs": [
    {
     "data": {
      "text/html": [
       "<div>\n",
       "<style scoped>\n",
       "    .dataframe tbody tr th:only-of-type {\n",
       "        vertical-align: middle;\n",
       "    }\n",
       "\n",
       "    .dataframe tbody tr th {\n",
       "        vertical-align: top;\n",
       "    }\n",
       "\n",
       "    .dataframe thead th {\n",
       "        text-align: right;\n",
       "    }\n",
       "</style>\n",
       "<table border=\"1\" class=\"dataframe\">\n",
       "  <thead>\n",
       "    <tr style=\"text-align: right;\">\n",
       "      <th></th>\n",
       "      <th>rating</th>\n",
       "      <th>price</th>\n",
       "      <th>page_count</th>\n",
       "    </tr>\n",
       "  </thead>\n",
       "  <tbody>\n",
       "    <tr>\n",
       "      <th>count</th>\n",
       "      <td>1224.000000</td>\n",
       "      <td>1299.000000</td>\n",
       "      <td>1.299000e+03</td>\n",
       "    </tr>\n",
       "    <tr>\n",
       "      <th>mean</th>\n",
       "      <td>4.424755</td>\n",
       "      <td>45.882733</td>\n",
       "      <td>1.505974e+10</td>\n",
       "    </tr>\n",
       "    <tr>\n",
       "      <th>std</th>\n",
       "      <td>0.392489</td>\n",
       "      <td>53.588444</td>\n",
       "      <td>3.836540e+11</td>\n",
       "    </tr>\n",
       "    <tr>\n",
       "      <th>min</th>\n",
       "      <td>2.500000</td>\n",
       "      <td>0.000000</td>\n",
       "      <td>7.000000e+00</td>\n",
       "    </tr>\n",
       "    <tr>\n",
       "      <th>25%</th>\n",
       "      <td>4.200000</td>\n",
       "      <td>22.470000</td>\n",
       "      <td>1.940000e+02</td>\n",
       "    </tr>\n",
       "    <tr>\n",
       "      <th>50%</th>\n",
       "      <td>4.500000</td>\n",
       "      <td>38.330000</td>\n",
       "      <td>3.040000e+02</td>\n",
       "    </tr>\n",
       "    <tr>\n",
       "      <th>75%</th>\n",
       "      <td>4.700000</td>\n",
       "      <td>59.030000</td>\n",
       "      <td>4.160000e+02</td>\n",
       "    </tr>\n",
       "    <tr>\n",
       "      <th>max</th>\n",
       "      <td>5.000000</td>\n",
       "      <td>886.080000</td>\n",
       "      <td>9.781302e+12</td>\n",
       "    </tr>\n",
       "  </tbody>\n",
       "</table>\n",
       "</div>"
      ],
      "text/plain": [
       "            rating        price    page_count\n",
       "count  1224.000000  1299.000000  1.299000e+03\n",
       "mean      4.424755    45.882733  1.505974e+10\n",
       "std       0.392489    53.588444  3.836540e+11\n",
       "min       2.500000     0.000000  7.000000e+00\n",
       "25%       4.200000    22.470000  1.940000e+02\n",
       "50%       4.500000    38.330000  3.040000e+02\n",
       "75%       4.700000    59.030000  4.160000e+02\n",
       "max       5.000000   886.080000  9.781302e+12"
      ]
     },
     "execution_count": 4,
     "metadata": {},
     "output_type": "execute_result"
    }
   ],
   "source": [
    "#Get an understanding ofthe data\n",
    "df.describe()"
   ]
  },
  {
   "cell_type": "code",
   "execution_count": 5,
   "metadata": {},
   "outputs": [
    {
     "data": {
      "text/plain": [
       "title              object\n",
       "author             object\n",
       "rating            float64\n",
       "voters             object\n",
       "price             float64\n",
       "currency           object\n",
       "description        object\n",
       "publisher          object\n",
       "page_count          int64\n",
       "generes            object\n",
       "ISBN               object\n",
       "language           object\n",
       "published_date     object\n",
       "dtype: object"
      ]
     },
     "execution_count": 5,
     "metadata": {},
     "output_type": "execute_result"
    }
   ],
   "source": [
    "#look at the types of each column\n",
    "df.dtypes"
   ]
  },
  {
   "cell_type": "markdown",
   "metadata": {},
   "source": [
    "From this it is clear that only 3 columns are numerical, with many of the others being categorical or descriptive.\n",
    "Voters and currency are also coming up as object when they should be numerical so we will have to change this. Published date should also be a date field, however we will not be using this in the analysis."
   ]
  },
  {
   "cell_type": "code",
   "execution_count": 6,
   "metadata": {},
   "outputs": [
    {
     "name": "stdout",
     "output_type": "stream",
     "text": [
      "(1299, 13)\n",
      "There are 1299 rows and 13 columns\n"
     ]
    }
   ],
   "source": [
    "# Look at the the shape of the data set:\n",
    "print(df.shape)\n",
    "print('There are ' + str(df.shape[0]) + ' rows and ' + str(df.shape[1]) + ' columns')"
   ]
  },
  {
   "cell_type": "code",
   "execution_count": 7,
   "metadata": {},
   "outputs": [
    {
     "data": {
      "text/plain": [
       "title              0\n",
       "author             0\n",
       "rating            75\n",
       "voters            75\n",
       "price              0\n",
       "currency           0\n",
       "description        3\n",
       "publisher          0\n",
       "page_count         0\n",
       "generes            0\n",
       "ISBN               0\n",
       "language           0\n",
       "published_date     0\n",
       "dtype: int64"
      ]
     },
     "execution_count": 7,
     "metadata": {},
     "output_type": "execute_result"
    }
   ],
   "source": [
    "#check for null values\n",
    "pd.isna(df).sum()"
   ]
  },
  {
   "cell_type": "markdown",
   "metadata": {},
   "source": [
    "There is clearly some nulls in this data set, which need to be dealt with (especially if we were to be doing any machine learning models). We will look at how to deal with these in the data cleaning section below"
   ]
  },
  {
   "cell_type": "code",
   "execution_count": 8,
   "metadata": {},
   "outputs": [
    {
     "data": {
      "text/plain": [
       "351"
      ]
     },
     "execution_count": 8,
     "metadata": {},
     "output_type": "execute_result"
    }
   ],
   "source": [
    "#check how many duplicates there are\n",
    "df.duplicated().sum()"
   ]
  },
  {
   "cell_type": "markdown",
   "metadata": {},
   "source": [
    "We have some rows in the data set that are duplicated, we would like to remove these so they don't get counted more than once. This will also be dealt with in the section below"
   ]
  },
  {
   "cell_type": "markdown",
   "metadata": {},
   "source": [
    "## Data Preperation (CLEAN)"
   ]
  },
  {
   "cell_type": "markdown",
   "metadata": {},
   "source": [
    "In the case of the 75 nulls in ratings, we would like to remove all entries with no rating, as this is the column we are most interested in. This is the best choice for this dataset as trying to use the mean or mode ratings to fill them in would not make sense, especially as we want to look at what features impact ratings."
   ]
  },
  {
   "cell_type": "code",
   "execution_count": 9,
   "metadata": {},
   "outputs": [],
   "source": [
    "#drop the rows where rating is null\n",
    "df_cleaned = df.dropna(subset=['rating']) "
   ]
  },
  {
   "cell_type": "code",
   "execution_count": 10,
   "metadata": {},
   "outputs": [
    {
     "data": {
      "text/plain": [
       "title             0\n",
       "author            0\n",
       "rating            0\n",
       "voters            0\n",
       "price             0\n",
       "currency          0\n",
       "description       3\n",
       "publisher         0\n",
       "page_count        0\n",
       "generes           0\n",
       "ISBN              0\n",
       "language          0\n",
       "published_date    0\n",
       "dtype: int64"
      ]
     },
     "execution_count": 10,
     "metadata": {},
     "output_type": "execute_result"
    }
   ],
   "source": [
    "#check to see what nulls are left\n",
    "pd.isna(df_cleaned).sum()"
   ]
  },
  {
   "cell_type": "markdown",
   "metadata": {},
   "source": [
    "By doing this, I have also removed the nulls from the voters column. \n",
    "We can see that there is still 3 nulls in the description column, however we will not need this column for any of the questions, so can remove this too.\n",
    "\n",
    "Also, we will not be using publisher, ISBN, language or published date so I will remove these now.\n",
    "However, if further analysis was to be done on this data set there are many other interesting questions that could be asked using these. We may also want to keep these kind of variables if we were doing a machine learning algorithm (depends on how they correlate with the response variable)"
   ]
  },
  {
   "cell_type": "code",
   "execution_count": 11,
   "metadata": {},
   "outputs": [],
   "source": [
    "#remove the columns not needed for the analysis\n",
    "df_cleaned = df_cleaned.drop(['description','ISBN','publisher','language','published_date'], axis=1)"
   ]
  },
  {
   "cell_type": "code",
   "execution_count": 12,
   "metadata": {},
   "outputs": [
    {
     "data": {
      "text/plain": [
       "title         0\n",
       "author        0\n",
       "rating        0\n",
       "voters        0\n",
       "price         0\n",
       "currency      0\n",
       "page_count    0\n",
       "generes       0\n",
       "dtype: int64"
      ]
     },
     "execution_count": 12,
     "metadata": {},
     "output_type": "execute_result"
    }
   ],
   "source": [
    "#check for nulls again\n",
    "pd.isna(df_cleaned).sum()"
   ]
  },
  {
   "cell_type": "code",
   "execution_count": 13,
   "metadata": {},
   "outputs": [],
   "source": [
    "#Rename the 'generes' column so that it is spelt correctly:\n",
    "df_cleaned.rename(columns = {'generes':'genres'}, inplace = True)"
   ]
  },
  {
   "cell_type": "code",
   "execution_count": 14,
   "metadata": {},
   "outputs": [
    {
     "data": {
      "text/html": [
       "<div>\n",
       "<style scoped>\n",
       "    .dataframe tbody tr th:only-of-type {\n",
       "        vertical-align: middle;\n",
       "    }\n",
       "\n",
       "    .dataframe tbody tr th {\n",
       "        vertical-align: top;\n",
       "    }\n",
       "\n",
       "    .dataframe thead th {\n",
       "        text-align: right;\n",
       "    }\n",
       "</style>\n",
       "<table border=\"1\" class=\"dataframe\">\n",
       "  <thead>\n",
       "    <tr style=\"text-align: right;\">\n",
       "      <th></th>\n",
       "      <th>title</th>\n",
       "      <th>author</th>\n",
       "      <th>rating</th>\n",
       "      <th>voters</th>\n",
       "      <th>price</th>\n",
       "      <th>currency</th>\n",
       "      <th>page_count</th>\n",
       "      <th>genres</th>\n",
       "    </tr>\n",
       "  </thead>\n",
       "  <tbody>\n",
       "    <tr>\n",
       "      <th>0</th>\n",
       "      <td>Attack on Titan: Volume 13</td>\n",
       "      <td>Hajime Isayama</td>\n",
       "      <td>4.6</td>\n",
       "      <td>428</td>\n",
       "      <td>43.28</td>\n",
       "      <td>SAR</td>\n",
       "      <td>192</td>\n",
       "      <td>none</td>\n",
       "    </tr>\n",
       "    <tr>\n",
       "      <th>1</th>\n",
       "      <td>Antiques Roadkill: A Trash 'n' Treasures Mystery</td>\n",
       "      <td>Barbara Allan</td>\n",
       "      <td>3.3</td>\n",
       "      <td>23</td>\n",
       "      <td>26.15</td>\n",
       "      <td>SAR</td>\n",
       "      <td>288</td>\n",
       "      <td>Fiction , Mystery &amp;amp, Detective , Cozy , Gen...</td>\n",
       "    </tr>\n",
       "    <tr>\n",
       "      <th>2</th>\n",
       "      <td>The Art of Super Mario Odyssey</td>\n",
       "      <td>Nintendo</td>\n",
       "      <td>3.9</td>\n",
       "      <td>9</td>\n",
       "      <td>133.85</td>\n",
       "      <td>SAR</td>\n",
       "      <td>368</td>\n",
       "      <td>Games &amp;amp, Activities , Video &amp;amp, Electronic</td>\n",
       "    </tr>\n",
       "    <tr>\n",
       "      <th>3</th>\n",
       "      <td>Getting Away Is Deadly: An Ellie Avery Mystery</td>\n",
       "      <td>Sara Rosett</td>\n",
       "      <td>4.0</td>\n",
       "      <td>10</td>\n",
       "      <td>26.15</td>\n",
       "      <td>SAR</td>\n",
       "      <td>320</td>\n",
       "      <td>none</td>\n",
       "    </tr>\n",
       "    <tr>\n",
       "      <th>4</th>\n",
       "      <td>The Painted Man (The Demon Cycle, Book 1)</td>\n",
       "      <td>Peter V. Brett</td>\n",
       "      <td>4.5</td>\n",
       "      <td>577</td>\n",
       "      <td>28.54</td>\n",
       "      <td>SAR</td>\n",
       "      <td>544</td>\n",
       "      <td>Fiction , Fantasy , Dark Fantasy</td>\n",
       "    </tr>\n",
       "  </tbody>\n",
       "</table>\n",
       "</div>"
      ],
      "text/plain": [
       "                                              title          author  rating  \\\n",
       "0                        Attack on Titan: Volume 13  Hajime Isayama     4.6   \n",
       "1  Antiques Roadkill: A Trash 'n' Treasures Mystery   Barbara Allan     3.3   \n",
       "2                    The Art of Super Mario Odyssey        Nintendo     3.9   \n",
       "3    Getting Away Is Deadly: An Ellie Avery Mystery     Sara Rosett     4.0   \n",
       "4         The Painted Man (The Demon Cycle, Book 1)  Peter V. Brett     4.5   \n",
       "\n",
       "  voters   price currency  page_count  \\\n",
       "0    428   43.28      SAR         192   \n",
       "1     23   26.15      SAR         288   \n",
       "2      9  133.85      SAR         368   \n",
       "3     10   26.15      SAR         320   \n",
       "4    577   28.54      SAR         544   \n",
       "\n",
       "                                              genres  \n",
       "0                                               none  \n",
       "1  Fiction , Mystery &amp, Detective , Cozy , Gen...  \n",
       "2    Games &amp, Activities , Video &amp, Electronic  \n",
       "3                                               none  \n",
       "4                   Fiction , Fantasy , Dark Fantasy  "
      ]
     },
     "execution_count": 14,
     "metadata": {},
     "output_type": "execute_result"
    }
   ],
   "source": [
    "#check again on what the data frame looks like\n",
    "df_cleaned.head()"
   ]
  },
  {
   "cell_type": "code",
   "execution_count": 15,
   "metadata": {},
   "outputs": [
    {
     "name": "stdout",
     "output_type": "stream",
     "text": [
      "(1224, 8)\n",
      "There are 1224 rows and 8 columns\n"
     ]
    }
   ],
   "source": [
    "#check the shape of the data set\n",
    "print(df_cleaned.shape)\n",
    "print('There are ' + str(df_cleaned.shape[0]) + ' rows and ' + str(df_cleaned.shape[1]) + ' columns')"
   ]
  },
  {
   "cell_type": "code",
   "execution_count": 16,
   "metadata": {},
   "outputs": [
    {
     "data": {
      "text/plain": [
       "333"
      ]
     },
     "execution_count": 16,
     "metadata": {},
     "output_type": "execute_result"
    }
   ],
   "source": [
    "##Now we want to see how many duplicates we have and remove them:\n",
    "df_cleaned.duplicated().sum()"
   ]
  },
  {
   "cell_type": "code",
   "execution_count": 17,
   "metadata": {},
   "outputs": [],
   "source": [
    "# drop the duplicated rows\n",
    "df_cleaned= df_cleaned.drop_duplicates()"
   ]
  },
  {
   "cell_type": "code",
   "execution_count": 18,
   "metadata": {},
   "outputs": [
    {
     "data": {
      "text/plain": [
       "0"
      ]
     },
     "execution_count": 18,
     "metadata": {},
     "output_type": "execute_result"
    }
   ],
   "source": [
    "#check that that worked\n",
    "df_cleaned.duplicated().sum()"
   ]
  },
  {
   "cell_type": "code",
   "execution_count": 19,
   "metadata": {},
   "outputs": [
    {
     "name": "stdout",
     "output_type": "stream",
     "text": [
      "(891, 8)\n",
      "There are 891 rows and 8 columns\n"
     ]
    }
   ],
   "source": [
    "# check the new shape of the data set\n",
    "print(df_cleaned.shape)\n",
    "print('There are ' + str(df_cleaned.shape[0]) + ' rows and ' + str(df_cleaned.shape[1]) + ' columns')"
   ]
  },
  {
   "cell_type": "code",
   "execution_count": 20,
   "metadata": {},
   "outputs": [
    {
     "name": "stdout",
     "output_type": "stream",
     "text": [
      "0.0    30\n",
      "Name: price, dtype: int64\n",
      "Free    30\n",
      "Name: currency, dtype: int64\n"
     ]
    }
   ],
   "source": [
    "## We want to use price for our questions, but we have two columns related to money - price and currency\n",
    "###Is the currency column useful?\n",
    "\n",
    "#check the possible values of price when currency = Free\n",
    "print(df[df['currency']=='Free']['price'].value_counts())\n",
    "#check the possible values of currence when price = 0\n",
    "print(df[df['price']== 0]['currency'].value_counts())\n"
   ]
  },
  {
   "cell_type": "markdown",
   "metadata": {},
   "source": [
    "As expected, when the currency is 'Free' the price is 0 and vice versa, so we can removed the 'currency' column as it doesn't add anything to the analysis"
   ]
  },
  {
   "cell_type": "code",
   "execution_count": 21,
   "metadata": {},
   "outputs": [],
   "source": [
    "# remove the currency column\n",
    "df_cleaned = df_cleaned.drop(['currency'], axis=1)"
   ]
  },
  {
   "cell_type": "code",
   "execution_count": 22,
   "metadata": {},
   "outputs": [
    {
     "name": "stdout",
     "output_type": "stream",
     "text": [
      "(891, 7)\n",
      "There are 891 rows and 7 columns\n"
     ]
    }
   ],
   "source": [
    "#check the shape\n",
    "print(df_cleaned.shape)\n",
    "print('There are ' + str(df_cleaned.shape[0]) + ' rows and ' + str(df_cleaned.shape[1]) + ' columns')"
   ]
  },
  {
   "cell_type": "code",
   "execution_count": 23,
   "metadata": {},
   "outputs": [
    {
     "data": {
      "text/plain": [
       "title          object\n",
       "author         object\n",
       "rating        float64\n",
       "voters         object\n",
       "price         float64\n",
       "page_count      int64\n",
       "genres         object\n",
       "dtype: object"
      ]
     },
     "execution_count": 23,
     "metadata": {},
     "output_type": "execute_result"
    }
   ],
   "source": [
    "# look at the data types again to know what we may need to change\n",
    "df_cleaned.dtypes"
   ]
  },
  {
   "cell_type": "markdown",
   "metadata": {},
   "source": [
    "As spoken about in the data understanding section, we would like to make sure the data types make sense for analysis. For example, as it stands now if we tried to use voters as a number it would throw an error."
   ]
  },
  {
   "cell_type": "code",
   "execution_count": 24,
   "metadata": {},
   "outputs": [],
   "source": [
    "#Need to remove commas from the number to be able to change it to integer\n",
    "df_cleaned['voters'] = df_cleaned['voters'].replace(',','', regex=True)\n",
    "\n",
    "#The data types we would expect:\n",
    "data_types_dict = {'title': str, 'author': str, 'rating': float, \n",
    "                   'voters': int, 'price': float, 'page_count': int, 'genres': str}\n",
    "\n",
    "df_cleaned = df_cleaned.astype(data_types_dict)"
   ]
  },
  {
   "cell_type": "code",
   "execution_count": 25,
   "metadata": {},
   "outputs": [
    {
     "data": {
      "text/plain": [
       "title          object\n",
       "author         object\n",
       "rating        float64\n",
       "voters          int32\n",
       "price         float64\n",
       "page_count      int32\n",
       "genres         object\n",
       "dtype: object"
      ]
     },
     "execution_count": 25,
     "metadata": {},
     "output_type": "execute_result"
    }
   ],
   "source": [
    "df_cleaned.dtypes"
   ]
  },
  {
   "cell_type": "markdown",
   "metadata": {},
   "source": [
    "Since we are also looking at highest rated books we may also want to look at the weighted rating, which we are able to do as we have the number of voters."
   ]
  },
  {
   "cell_type": "code",
   "execution_count": 26,
   "metadata": {},
   "outputs": [],
   "source": [
    "#create a new column in the data set\n",
    "df_cleaned['popularity_rating'] = df_cleaned['rating'] * df_cleaned['voters']"
   ]
  },
  {
   "cell_type": "code",
   "execution_count": 27,
   "metadata": {},
   "outputs": [
    {
     "data": {
      "text/html": [
       "<div>\n",
       "<style scoped>\n",
       "    .dataframe tbody tr th:only-of-type {\n",
       "        vertical-align: middle;\n",
       "    }\n",
       "\n",
       "    .dataframe tbody tr th {\n",
       "        vertical-align: top;\n",
       "    }\n",
       "\n",
       "    .dataframe thead th {\n",
       "        text-align: right;\n",
       "    }\n",
       "</style>\n",
       "<table border=\"1\" class=\"dataframe\">\n",
       "  <thead>\n",
       "    <tr style=\"text-align: right;\">\n",
       "      <th></th>\n",
       "      <th>title</th>\n",
       "      <th>author</th>\n",
       "      <th>rating</th>\n",
       "      <th>voters</th>\n",
       "      <th>price</th>\n",
       "      <th>page_count</th>\n",
       "      <th>genres</th>\n",
       "      <th>popularity_rating</th>\n",
       "    </tr>\n",
       "  </thead>\n",
       "  <tbody>\n",
       "    <tr>\n",
       "      <th>0</th>\n",
       "      <td>Attack on Titan: Volume 13</td>\n",
       "      <td>Hajime Isayama</td>\n",
       "      <td>4.6</td>\n",
       "      <td>428</td>\n",
       "      <td>43.28</td>\n",
       "      <td>192</td>\n",
       "      <td>none</td>\n",
       "      <td>1968.8</td>\n",
       "    </tr>\n",
       "    <tr>\n",
       "      <th>1</th>\n",
       "      <td>Antiques Roadkill: A Trash 'n' Treasures Mystery</td>\n",
       "      <td>Barbara Allan</td>\n",
       "      <td>3.3</td>\n",
       "      <td>23</td>\n",
       "      <td>26.15</td>\n",
       "      <td>288</td>\n",
       "      <td>Fiction , Mystery &amp;amp, Detective , Cozy , Gen...</td>\n",
       "      <td>75.9</td>\n",
       "    </tr>\n",
       "    <tr>\n",
       "      <th>2</th>\n",
       "      <td>The Art of Super Mario Odyssey</td>\n",
       "      <td>Nintendo</td>\n",
       "      <td>3.9</td>\n",
       "      <td>9</td>\n",
       "      <td>133.85</td>\n",
       "      <td>368</td>\n",
       "      <td>Games &amp;amp, Activities , Video &amp;amp, Electronic</td>\n",
       "      <td>35.1</td>\n",
       "    </tr>\n",
       "    <tr>\n",
       "      <th>3</th>\n",
       "      <td>Getting Away Is Deadly: An Ellie Avery Mystery</td>\n",
       "      <td>Sara Rosett</td>\n",
       "      <td>4.0</td>\n",
       "      <td>10</td>\n",
       "      <td>26.15</td>\n",
       "      <td>320</td>\n",
       "      <td>none</td>\n",
       "      <td>40.0</td>\n",
       "    </tr>\n",
       "    <tr>\n",
       "      <th>4</th>\n",
       "      <td>The Painted Man (The Demon Cycle, Book 1)</td>\n",
       "      <td>Peter V. Brett</td>\n",
       "      <td>4.5</td>\n",
       "      <td>577</td>\n",
       "      <td>28.54</td>\n",
       "      <td>544</td>\n",
       "      <td>Fiction , Fantasy , Dark Fantasy</td>\n",
       "      <td>2596.5</td>\n",
       "    </tr>\n",
       "  </tbody>\n",
       "</table>\n",
       "</div>"
      ],
      "text/plain": [
       "                                              title          author  rating  \\\n",
       "0                        Attack on Titan: Volume 13  Hajime Isayama     4.6   \n",
       "1  Antiques Roadkill: A Trash 'n' Treasures Mystery   Barbara Allan     3.3   \n",
       "2                    The Art of Super Mario Odyssey        Nintendo     3.9   \n",
       "3    Getting Away Is Deadly: An Ellie Avery Mystery     Sara Rosett     4.0   \n",
       "4         The Painted Man (The Demon Cycle, Book 1)  Peter V. Brett     4.5   \n",
       "\n",
       "   voters   price  page_count  \\\n",
       "0     428   43.28         192   \n",
       "1      23   26.15         288   \n",
       "2       9  133.85         368   \n",
       "3      10   26.15         320   \n",
       "4     577   28.54         544   \n",
       "\n",
       "                                              genres  popularity_rating  \n",
       "0                                               none             1968.8  \n",
       "1  Fiction , Mystery &amp, Detective , Cozy , Gen...               75.9  \n",
       "2    Games &amp, Activities , Video &amp, Electronic               35.1  \n",
       "3                                               none               40.0  \n",
       "4                   Fiction , Fantasy , Dark Fantasy             2596.5  "
      ]
     },
     "execution_count": 27,
     "metadata": {},
     "output_type": "execute_result"
    }
   ],
   "source": [
    "# check the dataset\n",
    "df_cleaned.head()"
   ]
  },
  {
   "cell_type": "code",
   "execution_count": 28,
   "metadata": {},
   "outputs": [
    {
     "data": {
      "text/plain": [
       "title                891\n",
       "author               891\n",
       "rating               891\n",
       "voters               891\n",
       "price                891\n",
       "page_count           891\n",
       "genres               891\n",
       "popularity_rating    891\n",
       "dtype: int64"
      ]
     },
     "execution_count": 28,
     "metadata": {},
     "output_type": "execute_result"
    }
   ],
   "source": [
    "# check the number of values in each column\n",
    "df_cleaned.count()"
   ]
  },
  {
   "cell_type": "code",
   "execution_count": 29,
   "metadata": {},
   "outputs": [
    {
     "data": {
      "text/plain": [
       "title                232\n",
       "author               176\n",
       "rating                18\n",
       "voters               162\n",
       "price                118\n",
       "page_count            99\n",
       "genres               226\n",
       "popularity_rating    203\n",
       "dtype: int64"
      ]
     },
     "execution_count": 29,
     "metadata": {},
     "output_type": "execute_result"
    }
   ],
   "source": [
    "#check number of unique values in each column\n",
    "df_cleaned.nunique()"
   ]
  },
  {
   "cell_type": "markdown",
   "metadata": {},
   "source": [
    "There is only 232 unique titles out of all 891 entries which means it is likely to still be duplicates but with slightly different values in one or more columns. On further inspection (below) this is mainly because of the genres column being different for different entries."
   ]
  },
  {
   "cell_type": "code",
   "execution_count": 30,
   "metadata": {},
   "outputs": [],
   "source": [
    "#remove the genres column and drop duplicates\n",
    "df_unique=df_cleaned.drop(['genres'],axis=1).drop_duplicates()"
   ]
  },
  {
   "cell_type": "code",
   "execution_count": 31,
   "metadata": {},
   "outputs": [
    {
     "name": "stdout",
     "output_type": "stream",
     "text": [
      "(233, 7)\n",
      "There are 233 rows and 7 columns\n"
     ]
    }
   ],
   "source": [
    "#check the shape\n",
    "print(df_unique.shape)\n",
    "print('There are ' + str(df_unique.shape[0]) + ' rows and ' + str(df_unique.shape[1]) + ' columns')"
   ]
  },
  {
   "cell_type": "code",
   "execution_count": 32,
   "metadata": {},
   "outputs": [
    {
     "data": {
      "text/plain": [
       "The Memoirs of Sherlock Holmes                                                                    2\n",
       "15 Delicious Slow Cooker Recipes                                                                  1\n",
       "Mistborn Trilogy: The Final Empire, The Well of Ascension, The Hero of Ages                       1\n",
       "The Power of Habit: Why We Do What We Do in Life and Business                                     1\n",
       "How to Make Money in Stocks: A Winning System in Good Times and Bad, Fourth Edition: Edition 4    1\n",
       "Name: title, dtype: int64"
      ]
     },
     "execution_count": 32,
     "metadata": {},
     "output_type": "execute_result"
    }
   ],
   "source": [
    "### check to see if we only have 232 titles now\n",
    "df_unique['title'].value_counts().head()"
   ]
  },
  {
   "cell_type": "markdown",
   "metadata": {},
   "source": [
    "By removing the genres column other duplicates have been removed. This shows that in the majority of cases the reason for duplicates was because of the genres column. The only title where this is not the case is: ' The Memoirs of Sherlock Holmes ' which still has 2 entries."
   ]
  },
  {
   "cell_type": "code",
   "execution_count": 33,
   "metadata": {},
   "outputs": [
    {
     "data": {
      "text/html": [
       "<div>\n",
       "<style scoped>\n",
       "    .dataframe tbody tr th:only-of-type {\n",
       "        vertical-align: middle;\n",
       "    }\n",
       "\n",
       "    .dataframe tbody tr th {\n",
       "        vertical-align: top;\n",
       "    }\n",
       "\n",
       "    .dataframe thead th {\n",
       "        text-align: right;\n",
       "    }\n",
       "</style>\n",
       "<table border=\"1\" class=\"dataframe\">\n",
       "  <thead>\n",
       "    <tr style=\"text-align: right;\">\n",
       "      <th></th>\n",
       "      <th>title</th>\n",
       "      <th>author</th>\n",
       "      <th>rating</th>\n",
       "      <th>voters</th>\n",
       "      <th>price</th>\n",
       "      <th>page_count</th>\n",
       "      <th>popularity_rating</th>\n",
       "    </tr>\n",
       "  </thead>\n",
       "  <tbody>\n",
       "    <tr>\n",
       "      <th>72</th>\n",
       "      <td>The Memoirs of Sherlock Holmes</td>\n",
       "      <td>Arthur Conan Doyle</td>\n",
       "      <td>4.2</td>\n",
       "      <td>3316</td>\n",
       "      <td>0.00</td>\n",
       "      <td>320</td>\n",
       "      <td>13927.2</td>\n",
       "    </tr>\n",
       "    <tr>\n",
       "      <th>92</th>\n",
       "      <td>The Memoirs of Sherlock Holmes</td>\n",
       "      <td>Sir Arthur Conan Doyle</td>\n",
       "      <td>4.7</td>\n",
       "      <td>6</td>\n",
       "      <td>2.73</td>\n",
       "      <td>208</td>\n",
       "      <td>28.2</td>\n",
       "    </tr>\n",
       "  </tbody>\n",
       "</table>\n",
       "</div>"
      ],
      "text/plain": [
       "                             title                  author  rating  voters  \\\n",
       "72  The Memoirs of Sherlock Holmes      Arthur Conan Doyle     4.2    3316   \n",
       "92  The Memoirs of Sherlock Holmes  Sir Arthur Conan Doyle     4.7       6   \n",
       "\n",
       "    price  page_count  popularity_rating  \n",
       "72   0.00         320            13927.2  \n",
       "92   2.73         208               28.2  "
      ]
     },
     "execution_count": 33,
     "metadata": {},
     "output_type": "execute_result"
    }
   ],
   "source": [
    "#There are 2 cases of the ' Memoirs of Sherlock holmes'\n",
    "df_unique[df_unique['title']=='The Memoirs of Sherlock Holmes']"
   ]
  },
  {
   "cell_type": "markdown",
   "metadata": {},
   "source": [
    "The reason why this is appears twice is because there looks to be 2 editions of the book in the data set. Since they have different features (apart from the name) and different ratings I will still keep both versions in the data set."
   ]
  },
  {
   "cell_type": "markdown",
   "metadata": {},
   "source": [
    "By removing genres we now have 233 rows. This is how many we would like in the our final set, however we still want to use the genres to answer one of the questions.\n",
    "\n",
    "To be able to use genres, we will find all the unique genres for each title/author combination and then we will link that back to the main table. I will make sure we do not duplicate genres by using sets. This process will be described in the code below:"
   ]
  },
  {
   "cell_type": "code",
   "execution_count": 34,
   "metadata": {},
   "outputs": [],
   "source": [
    "## Create a column called Title Author to make sure that the 2 Sherlock books are distinct\n",
    "## This is because the ratings of the books are different so we want to keep them seperated\n",
    "df_cleaned['Title_Author']=df_cleaned['title']+ \": \" + df_cleaned['author']\n",
    "df_unique['Title_Author']=df_unique['title']+ \": \" + df_unique['author']"
   ]
  },
  {
   "cell_type": "code",
   "execution_count": 35,
   "metadata": {},
   "outputs": [
    {
     "data": {
      "text/plain": [
       "233"
      ]
     },
     "execution_count": 35,
     "metadata": {},
     "output_type": "execute_result"
    }
   ],
   "source": [
    "## Checking we have 233 unique title/author combinations\n",
    "df_cleaned['Title_Author'].nunique()"
   ]
  },
  {
   "cell_type": "code",
   "execution_count": 36,
   "metadata": {
    "scrolled": false
   },
   "outputs": [],
   "source": [
    "## Formatting on the genres column:\n",
    "# replace \"none\" with a blank\n",
    "df_cleaned['genres'] = df_cleaned['genres'].replace('none','', regex=True)\n",
    "\n",
    "#replace &amp with blank:\n",
    "df_cleaned['genres'] = df_cleaned['genres'].replace('&amp','', regex=True)\n",
    "\n",
    "#create a dictionary with unique titles/authors as keys. We will put the full list of genres for each as the values:\n",
    "#This will have an empty list for each value to start with:\n",
    "keys = list(df_cleaned['Title_Author'].unique())\n",
    "dictionary = dict.fromkeys(keys,[])\n",
    "\n",
    "# for every Title_Author in the dictionary we will loop round the original \"data_cleaned\" data set and add \n",
    "# the appropriate genres:\n",
    "\n",
    "for key in dictionary:\n",
    "    # create a set where we will add the genres\n",
    "    s=set()\n",
    "    # we want to loop round each row in the data set\n",
    "    for index, row in df_cleaned.iterrows():\n",
    "        # whenever a title in the row is equal to the element in the dictionary we will look at the genres\n",
    "        if key == row['Title_Author']:\n",
    "            # first split the genres string into a list, as the string seperates genres using commas\n",
    "            item_list = row['genres'].split(\",\")\n",
    "            for i in item_list:\n",
    "                # for each item in the list we will ignore it if it is blank\n",
    "                if i=='':\n",
    "                    pass\n",
    "                # otherwise we add it into the temporary set for that dictionary key\n",
    "                # I am using sets as this allows only unique values to be added (we don't want duplication)\n",
    "                else:\n",
    "                    s.add(i)\n",
    "    \n",
    "    #After we have created the set we will change this to a list:\n",
    "    new_list = list(s)\n",
    "    \n",
    "    #If the list is empty we can ignore\n",
    "    if new_list == []:\n",
    "        pass\n",
    "    #Otherwise we can add the list as the value of that key\n",
    "    else:                    \n",
    "        dictionary[key]=dictionary[key] + new_list\n"
   ]
  },
  {
   "cell_type": "code",
   "execution_count": 37,
   "metadata": {},
   "outputs": [
    {
     "name": "stdout",
     "output_type": "stream",
     "text": [
      "Attack on Titan: Volume 13: Hajime Isayama [' Manga ', ' Graphic Novels ', 'Comics ', ' Science Fiction']\n",
      "Antiques Roadkill: A Trash 'n' Treasures Mystery: Barbara Allan ['Fiction ', ' Mystery ', ' Private Investigators', ' Amateur Sleuth', ' Detective ', ' General', ' Cozy ']\n",
      "The Art of Super Mario Odyssey: Nintendo ['Games ', 'Art ', ' Activities ', ' Video ', ' Video Game Art', ' Popular Culture', ' Electronic']\n",
      "Getting Away Is Deadly: An Ellie Avery Mystery: Sara Rosett ['Fiction ', ' Mystery ', ' Women Sleuths', ' Amateur Sleuth', ' Detective ', ' General', ' Cozy ']\n",
      "The Painted Man (The Demon Cycle, Book 1): Peter V. Brett [' Fantasy ', ' War ', ' Military', ' Epic', ' Supernatural', ' Action ', ' Dark Fantasy', ' General', 'Fiction ', ' Adventure', ' Thrillers ']\n"
     ]
    }
   ],
   "source": [
    "# Check the dictionary looks as expected by looking at first 5 elements:\n",
    "for x in list(dictionary)[:5]:\n",
    "    print (x ,dictionary[x])"
   ]
  },
  {
   "cell_type": "code",
   "execution_count": 38,
   "metadata": {},
   "outputs": [],
   "source": [
    "# Add these into a dataframe:\n",
    "genres_data = pd.DataFrame(list(dictionary.items()),columns = ['Title_Author','genres'])"
   ]
  },
  {
   "cell_type": "code",
   "execution_count": 39,
   "metadata": {},
   "outputs": [
    {
     "data": {
      "text/html": [
       "<div>\n",
       "<style scoped>\n",
       "    .dataframe tbody tr th:only-of-type {\n",
       "        vertical-align: middle;\n",
       "    }\n",
       "\n",
       "    .dataframe tbody tr th {\n",
       "        vertical-align: top;\n",
       "    }\n",
       "\n",
       "    .dataframe thead th {\n",
       "        text-align: right;\n",
       "    }\n",
       "</style>\n",
       "<table border=\"1\" class=\"dataframe\">\n",
       "  <thead>\n",
       "    <tr style=\"text-align: right;\">\n",
       "      <th></th>\n",
       "      <th>Title_Author</th>\n",
       "      <th>genres</th>\n",
       "    </tr>\n",
       "  </thead>\n",
       "  <tbody>\n",
       "    <tr>\n",
       "      <th>0</th>\n",
       "      <td>Attack on Titan: Volume 13: Hajime Isayama</td>\n",
       "      <td>[ Manga ,  Graphic Novels , Comics ,  Science ...</td>\n",
       "    </tr>\n",
       "    <tr>\n",
       "      <th>1</th>\n",
       "      <td>Antiques Roadkill: A Trash 'n' Treasures Myste...</td>\n",
       "      <td>[Fiction ,  Mystery ,  Private Investigators, ...</td>\n",
       "    </tr>\n",
       "    <tr>\n",
       "      <th>2</th>\n",
       "      <td>The Art of Super Mario Odyssey: Nintendo</td>\n",
       "      <td>[Games , Art ,  Activities ,  Video ,  Video G...</td>\n",
       "    </tr>\n",
       "    <tr>\n",
       "      <th>3</th>\n",
       "      <td>Getting Away Is Deadly: An Ellie Avery Mystery...</td>\n",
       "      <td>[Fiction ,  Mystery ,  Women Sleuths,  Amateur...</td>\n",
       "    </tr>\n",
       "    <tr>\n",
       "      <th>4</th>\n",
       "      <td>The Painted Man (The Demon Cycle, Book 1): Pet...</td>\n",
       "      <td>[ Fantasy ,  War ,  Military,  Epic,  Supernat...</td>\n",
       "    </tr>\n",
       "  </tbody>\n",
       "</table>\n",
       "</div>"
      ],
      "text/plain": [
       "                                        Title_Author  \\\n",
       "0         Attack on Titan: Volume 13: Hajime Isayama   \n",
       "1  Antiques Roadkill: A Trash 'n' Treasures Myste...   \n",
       "2           The Art of Super Mario Odyssey: Nintendo   \n",
       "3  Getting Away Is Deadly: An Ellie Avery Mystery...   \n",
       "4  The Painted Man (The Demon Cycle, Book 1): Pet...   \n",
       "\n",
       "                                              genres  \n",
       "0  [ Manga ,  Graphic Novels , Comics ,  Science ...  \n",
       "1  [Fiction ,  Mystery ,  Private Investigators, ...  \n",
       "2  [Games , Art ,  Activities ,  Video ,  Video G...  \n",
       "3  [Fiction ,  Mystery ,  Women Sleuths,  Amateur...  \n",
       "4  [ Fantasy ,  War ,  Military,  Epic,  Supernat...  "
      ]
     },
     "execution_count": 39,
     "metadata": {},
     "output_type": "execute_result"
    }
   ],
   "source": [
    "#check the data frame is as expected:\n",
    "genres_data.head()"
   ]
  },
  {
   "cell_type": "code",
   "execution_count": 40,
   "metadata": {},
   "outputs": [],
   "source": [
    "# Want to add the updated genres to the original data frame:\n",
    "df_unique = df_unique.merge(genres_data, on='Title_Author', how='left')"
   ]
  },
  {
   "cell_type": "code",
   "execution_count": 41,
   "metadata": {},
   "outputs": [
    {
     "data": {
      "text/plain": [
       "title                0\n",
       "author               0\n",
       "rating               0\n",
       "voters               0\n",
       "price                0\n",
       "page_count           0\n",
       "popularity_rating    0\n",
       "Title_Author         0\n",
       "genres               0\n",
       "dtype: int64"
      ]
     },
     "execution_count": 41,
     "metadata": {},
     "output_type": "execute_result"
    }
   ],
   "source": [
    "# Check no nulls have been created\n",
    "pd.isna(df_unique).sum()"
   ]
  },
  {
   "cell_type": "code",
   "execution_count": 42,
   "metadata": {},
   "outputs": [
    {
     "data": {
      "text/html": [
       "<div>\n",
       "<style scoped>\n",
       "    .dataframe tbody tr th:only-of-type {\n",
       "        vertical-align: middle;\n",
       "    }\n",
       "\n",
       "    .dataframe tbody tr th {\n",
       "        vertical-align: top;\n",
       "    }\n",
       "\n",
       "    .dataframe thead th {\n",
       "        text-align: right;\n",
       "    }\n",
       "</style>\n",
       "<table border=\"1\" class=\"dataframe\">\n",
       "  <thead>\n",
       "    <tr style=\"text-align: right;\">\n",
       "      <th></th>\n",
       "      <th>title</th>\n",
       "      <th>author</th>\n",
       "      <th>rating</th>\n",
       "      <th>voters</th>\n",
       "      <th>price</th>\n",
       "      <th>page_count</th>\n",
       "      <th>popularity_rating</th>\n",
       "      <th>Title_Author</th>\n",
       "      <th>genres</th>\n",
       "    </tr>\n",
       "  </thead>\n",
       "  <tbody>\n",
       "    <tr>\n",
       "      <th>0</th>\n",
       "      <td>Attack on Titan: Volume 13</td>\n",
       "      <td>Hajime Isayama</td>\n",
       "      <td>4.6</td>\n",
       "      <td>428</td>\n",
       "      <td>43.28</td>\n",
       "      <td>192</td>\n",
       "      <td>1968.8</td>\n",
       "      <td>Attack on Titan: Volume 13: Hajime Isayama</td>\n",
       "      <td>[ Manga ,  Graphic Novels , Comics ,  Science ...</td>\n",
       "    </tr>\n",
       "    <tr>\n",
       "      <th>1</th>\n",
       "      <td>Antiques Roadkill: A Trash 'n' Treasures Mystery</td>\n",
       "      <td>Barbara Allan</td>\n",
       "      <td>3.3</td>\n",
       "      <td>23</td>\n",
       "      <td>26.15</td>\n",
       "      <td>288</td>\n",
       "      <td>75.9</td>\n",
       "      <td>Antiques Roadkill: A Trash 'n' Treasures Myste...</td>\n",
       "      <td>[Fiction ,  Mystery ,  Private Investigators, ...</td>\n",
       "    </tr>\n",
       "    <tr>\n",
       "      <th>2</th>\n",
       "      <td>The Art of Super Mario Odyssey</td>\n",
       "      <td>Nintendo</td>\n",
       "      <td>3.9</td>\n",
       "      <td>9</td>\n",
       "      <td>133.85</td>\n",
       "      <td>368</td>\n",
       "      <td>35.1</td>\n",
       "      <td>The Art of Super Mario Odyssey: Nintendo</td>\n",
       "      <td>[Games , Art ,  Activities ,  Video ,  Video G...</td>\n",
       "    </tr>\n",
       "    <tr>\n",
       "      <th>3</th>\n",
       "      <td>Getting Away Is Deadly: An Ellie Avery Mystery</td>\n",
       "      <td>Sara Rosett</td>\n",
       "      <td>4.0</td>\n",
       "      <td>10</td>\n",
       "      <td>26.15</td>\n",
       "      <td>320</td>\n",
       "      <td>40.0</td>\n",
       "      <td>Getting Away Is Deadly: An Ellie Avery Mystery...</td>\n",
       "      <td>[Fiction ,  Mystery ,  Women Sleuths,  Amateur...</td>\n",
       "    </tr>\n",
       "    <tr>\n",
       "      <th>4</th>\n",
       "      <td>The Painted Man (The Demon Cycle, Book 1)</td>\n",
       "      <td>Peter V. Brett</td>\n",
       "      <td>4.5</td>\n",
       "      <td>577</td>\n",
       "      <td>28.54</td>\n",
       "      <td>544</td>\n",
       "      <td>2596.5</td>\n",
       "      <td>The Painted Man (The Demon Cycle, Book 1): Pet...</td>\n",
       "      <td>[ Fantasy ,  War ,  Military,  Epic,  Supernat...</td>\n",
       "    </tr>\n",
       "  </tbody>\n",
       "</table>\n",
       "</div>"
      ],
      "text/plain": [
       "                                              title          author  rating  \\\n",
       "0                        Attack on Titan: Volume 13  Hajime Isayama     4.6   \n",
       "1  Antiques Roadkill: A Trash 'n' Treasures Mystery   Barbara Allan     3.3   \n",
       "2                    The Art of Super Mario Odyssey        Nintendo     3.9   \n",
       "3    Getting Away Is Deadly: An Ellie Avery Mystery     Sara Rosett     4.0   \n",
       "4         The Painted Man (The Demon Cycle, Book 1)  Peter V. Brett     4.5   \n",
       "\n",
       "   voters   price  page_count  popularity_rating  \\\n",
       "0     428   43.28         192             1968.8   \n",
       "1      23   26.15         288               75.9   \n",
       "2       9  133.85         368               35.1   \n",
       "3      10   26.15         320               40.0   \n",
       "4     577   28.54         544             2596.5   \n",
       "\n",
       "                                        Title_Author  \\\n",
       "0         Attack on Titan: Volume 13: Hajime Isayama   \n",
       "1  Antiques Roadkill: A Trash 'n' Treasures Myste...   \n",
       "2           The Art of Super Mario Odyssey: Nintendo   \n",
       "3  Getting Away Is Deadly: An Ellie Avery Mystery...   \n",
       "4  The Painted Man (The Demon Cycle, Book 1): Pet...   \n",
       "\n",
       "                                              genres  \n",
       "0  [ Manga ,  Graphic Novels , Comics ,  Science ...  \n",
       "1  [Fiction ,  Mystery ,  Private Investigators, ...  \n",
       "2  [Games , Art ,  Activities ,  Video ,  Video G...  \n",
       "3  [Fiction ,  Mystery ,  Women Sleuths,  Amateur...  \n",
       "4  [ Fantasy ,  War ,  Military,  Epic,  Supernat...  "
      ]
     },
     "execution_count": 42,
     "metadata": {},
     "output_type": "execute_result"
    }
   ],
   "source": [
    "#Check the data frame\n",
    "df_unique.head()"
   ]
  },
  {
   "cell_type": "code",
   "execution_count": 43,
   "metadata": {},
   "outputs": [
    {
     "data": {
      "text/html": [
       "<div>\n",
       "<style scoped>\n",
       "    .dataframe tbody tr th:only-of-type {\n",
       "        vertical-align: middle;\n",
       "    }\n",
       "\n",
       "    .dataframe tbody tr th {\n",
       "        vertical-align: top;\n",
       "    }\n",
       "\n",
       "    .dataframe thead th {\n",
       "        text-align: right;\n",
       "    }\n",
       "</style>\n",
       "<table border=\"1\" class=\"dataframe\">\n",
       "  <thead>\n",
       "    <tr style=\"text-align: right;\">\n",
       "      <th></th>\n",
       "      <th>title</th>\n",
       "      <th>author</th>\n",
       "      <th>rating</th>\n",
       "      <th>voters</th>\n",
       "      <th>price</th>\n",
       "      <th>page_count</th>\n",
       "      <th>popularity_rating</th>\n",
       "      <th>Title_Author</th>\n",
       "      <th>genres</th>\n",
       "    </tr>\n",
       "  </thead>\n",
       "  <tbody>\n",
       "    <tr>\n",
       "      <th>57</th>\n",
       "      <td>The Memoirs of Sherlock Holmes</td>\n",
       "      <td>Arthur Conan Doyle</td>\n",
       "      <td>4.2</td>\n",
       "      <td>3316</td>\n",
       "      <td>0.00</td>\n",
       "      <td>320</td>\n",
       "      <td>13927.2</td>\n",
       "      <td>The Memoirs of Sherlock Holmes: Arthur Conan D...</td>\n",
       "      <td>[ Mystery ,  General,  Suspense,  Classics,  D...</td>\n",
       "    </tr>\n",
       "    <tr>\n",
       "      <th>68</th>\n",
       "      <td>The Memoirs of Sherlock Holmes</td>\n",
       "      <td>Sir Arthur Conan Doyle</td>\n",
       "      <td>4.7</td>\n",
       "      <td>6</td>\n",
       "      <td>2.73</td>\n",
       "      <td>208</td>\n",
       "      <td>28.2</td>\n",
       "      <td>The Memoirs of Sherlock Holmes: Sir Arthur Con...</td>\n",
       "      <td>[ Collections ,  Mystery ,  Anthologies,  Dete...</td>\n",
       "    </tr>\n",
       "  </tbody>\n",
       "</table>\n",
       "</div>"
      ],
      "text/plain": [
       "                             title                  author  rating  voters  \\\n",
       "57  The Memoirs of Sherlock Holmes      Arthur Conan Doyle     4.2    3316   \n",
       "68  The Memoirs of Sherlock Holmes  Sir Arthur Conan Doyle     4.7       6   \n",
       "\n",
       "    price  page_count  popularity_rating  \\\n",
       "57   0.00         320            13927.2   \n",
       "68   2.73         208               28.2   \n",
       "\n",
       "                                         Title_Author  \\\n",
       "57  The Memoirs of Sherlock Holmes: Arthur Conan D...   \n",
       "68  The Memoirs of Sherlock Holmes: Sir Arthur Con...   \n",
       "\n",
       "                                               genres  \n",
       "57  [ Mystery ,  General,  Suspense,  Classics,  D...  \n",
       "68  [ Collections ,  Mystery ,  Anthologies,  Dete...  "
      ]
     },
     "execution_count": 43,
     "metadata": {},
     "output_type": "execute_result"
    }
   ],
   "source": [
    "#Check it has kept the two Sherlock books seperate:\n",
    "df_unique[df_unique['title']=='The Memoirs of Sherlock Holmes']"
   ]
  },
  {
   "cell_type": "code",
   "execution_count": 44,
   "metadata": {},
   "outputs": [],
   "source": [
    "# Can remove the 'Title_Author' column:\n",
    "df_unique = df_unique.drop(['Title_Author'], axis=1)"
   ]
  },
  {
   "cell_type": "code",
   "execution_count": 45,
   "metadata": {},
   "outputs": [
    {
     "name": "stdout",
     "output_type": "stream",
     "text": [
      "(233, 8)\n",
      "There are 233 rows and 8 columns\n"
     ]
    }
   ],
   "source": [
    "#check the shape\n",
    "print(df_unique.shape)\n",
    "print('There are ' + str(df_unique.shape[0]) + ' rows and ' + str(df_unique.shape[1]) + ' columns')"
   ]
  },
  {
   "cell_type": "code",
   "execution_count": 46,
   "metadata": {},
   "outputs": [
    {
     "data": {
      "text/html": [
       "<div>\n",
       "<style scoped>\n",
       "    .dataframe tbody tr th:only-of-type {\n",
       "        vertical-align: middle;\n",
       "    }\n",
       "\n",
       "    .dataframe tbody tr th {\n",
       "        vertical-align: top;\n",
       "    }\n",
       "\n",
       "    .dataframe thead th {\n",
       "        text-align: right;\n",
       "    }\n",
       "</style>\n",
       "<table border=\"1\" class=\"dataframe\">\n",
       "  <thead>\n",
       "    <tr style=\"text-align: right;\">\n",
       "      <th></th>\n",
       "      <th>title</th>\n",
       "      <th>author</th>\n",
       "      <th>rating</th>\n",
       "      <th>voters</th>\n",
       "      <th>price</th>\n",
       "      <th>page_count</th>\n",
       "      <th>popularity_rating</th>\n",
       "      <th>genres</th>\n",
       "    </tr>\n",
       "  </thead>\n",
       "  <tbody>\n",
       "    <tr>\n",
       "      <th>0</th>\n",
       "      <td>Attack on Titan: Volume 13</td>\n",
       "      <td>Hajime Isayama</td>\n",
       "      <td>4.6</td>\n",
       "      <td>428</td>\n",
       "      <td>43.28</td>\n",
       "      <td>192</td>\n",
       "      <td>1968.8</td>\n",
       "      <td>[ Manga ,  Graphic Novels , Comics ,  Science ...</td>\n",
       "    </tr>\n",
       "    <tr>\n",
       "      <th>1</th>\n",
       "      <td>Antiques Roadkill: A Trash 'n' Treasures Mystery</td>\n",
       "      <td>Barbara Allan</td>\n",
       "      <td>3.3</td>\n",
       "      <td>23</td>\n",
       "      <td>26.15</td>\n",
       "      <td>288</td>\n",
       "      <td>75.9</td>\n",
       "      <td>[Fiction ,  Mystery ,  Private Investigators, ...</td>\n",
       "    </tr>\n",
       "    <tr>\n",
       "      <th>2</th>\n",
       "      <td>The Art of Super Mario Odyssey</td>\n",
       "      <td>Nintendo</td>\n",
       "      <td>3.9</td>\n",
       "      <td>9</td>\n",
       "      <td>133.85</td>\n",
       "      <td>368</td>\n",
       "      <td>35.1</td>\n",
       "      <td>[Games , Art ,  Activities ,  Video ,  Video G...</td>\n",
       "    </tr>\n",
       "    <tr>\n",
       "      <th>3</th>\n",
       "      <td>Getting Away Is Deadly: An Ellie Avery Mystery</td>\n",
       "      <td>Sara Rosett</td>\n",
       "      <td>4.0</td>\n",
       "      <td>10</td>\n",
       "      <td>26.15</td>\n",
       "      <td>320</td>\n",
       "      <td>40.0</td>\n",
       "      <td>[Fiction ,  Mystery ,  Women Sleuths,  Amateur...</td>\n",
       "    </tr>\n",
       "    <tr>\n",
       "      <th>4</th>\n",
       "      <td>The Painted Man (The Demon Cycle, Book 1)</td>\n",
       "      <td>Peter V. Brett</td>\n",
       "      <td>4.5</td>\n",
       "      <td>577</td>\n",
       "      <td>28.54</td>\n",
       "      <td>544</td>\n",
       "      <td>2596.5</td>\n",
       "      <td>[ Fantasy ,  War ,  Military,  Epic,  Supernat...</td>\n",
       "    </tr>\n",
       "  </tbody>\n",
       "</table>\n",
       "</div>"
      ],
      "text/plain": [
       "                                              title          author  rating  \\\n",
       "0                        Attack on Titan: Volume 13  Hajime Isayama     4.6   \n",
       "1  Antiques Roadkill: A Trash 'n' Treasures Mystery   Barbara Allan     3.3   \n",
       "2                    The Art of Super Mario Odyssey        Nintendo     3.9   \n",
       "3    Getting Away Is Deadly: An Ellie Avery Mystery     Sara Rosett     4.0   \n",
       "4         The Painted Man (The Demon Cycle, Book 1)  Peter V. Brett     4.5   \n",
       "\n",
       "   voters   price  page_count  popularity_rating  \\\n",
       "0     428   43.28         192             1968.8   \n",
       "1      23   26.15         288               75.9   \n",
       "2       9  133.85         368               35.1   \n",
       "3      10   26.15         320               40.0   \n",
       "4     577   28.54         544             2596.5   \n",
       "\n",
       "                                              genres  \n",
       "0  [ Manga ,  Graphic Novels , Comics ,  Science ...  \n",
       "1  [Fiction ,  Mystery ,  Private Investigators, ...  \n",
       "2  [Games , Art ,  Activities ,  Video ,  Video G...  \n",
       "3  [Fiction ,  Mystery ,  Women Sleuths,  Amateur...  \n",
       "4  [ Fantasy ,  War ,  Military,  Epic,  Supernat...  "
      ]
     },
     "execution_count": 46,
     "metadata": {},
     "output_type": "execute_result"
    }
   ],
   "source": [
    "#check the data frame again\n",
    "df_unique.head()"
   ]
  },
  {
   "cell_type": "markdown",
   "metadata": {},
   "source": [
    "#### Prepare functions for plotting:\n",
    "Now I have cleaned the data ready to be used, I am going to make some functions that will make it easier to visualise the data when plotting:"
   ]
  },
  {
   "cell_type": "code",
   "execution_count": 47,
   "metadata": {},
   "outputs": [],
   "source": [
    "#For some of these we are going to want to plot some nice visualisations showing the top N authors, categories etc\n",
    "#Therefore I am going to create a function that allows to plot this easily:\n",
    "\n",
    "def bar_plot_function(dataframe,X,Y,N,asc=False):\n",
    "    '''This function takes an item you want to order (Y) and what you want to order it by (X)\n",
    "        so that you can plot this into a bar chart. \n",
    "        You can also choose how many items you want to appear in the bar chart (N) and if you \n",
    "        want the top or bottom values.\n",
    "        \n",
    "        INPUTS:\n",
    "        - dataframe\n",
    "        - X - the item you want on the X axis, this is what the data will be ordered by\n",
    "            This is a vector incase you want to order by multiple things. The first one \n",
    "            will appear on the axis.\n",
    "        - Y - the item you want on the Y axis, this is the item you want to be ordered\n",
    "        - N - this is the number of items you'd like to appear in the bar chart\n",
    "        - asc -  this is a boolean variable that decides if you want it ascending or descending\n",
    "            this is automatically False (so shows top values)\n",
    "            \n",
    "        OUTPUT: \n",
    "        - Bar graph of X and Y\n",
    "        \n",
    "    '''\n",
    "    # This is to help label the title as to whether we are showing bottom or top N values\n",
    "    if asc== False:\n",
    "        Order = 'Top'\n",
    "    else:\n",
    "        Order= 'Bottom'\n",
    "        \n",
    "    # If we are ordering by multiple values then add extra text into the title:\n",
    "    if len(X)==1:\n",
    "        text = ''\n",
    "    else:\n",
    "        text = ' then by '\n",
    "        for i in range(1,len(X)):\n",
    "            text = text + str(X[i].replace('_',' ').title())            \n",
    "        \n",
    "    \n",
    "    #Create the dataframe by sorting by specific values and choosing the number you want to see\n",
    "    data = dataframe.sort_values(by=X, ascending=asc).head(N)\n",
    "    \n",
    "    #reverse order of row so bar chart appears in same order as corresponding table\n",
    "    data = data[::-1]    \n",
    "    \n",
    "    #set the values of x and y\n",
    "    y = data[Y]\n",
    "    x = data[X[0]]\n",
    "    \n",
    "    # Plot the chart:\n",
    "    fig, ax = plt.subplots(figsize=(12,10))  \n",
    "    ax.barh(y, x, 0.9, color =sns.color_palette('hls',N))\n",
    "\n",
    "    #Add titles and axis\n",
    "    plt.title('Bar Chart showing the ' + Order + ' '+ str(N) + ' ' + Y.capitalize() + 's by ' \n",
    "              + X[0].replace('_',' ').title() + text)\n",
    "    plt.xlabel(X[0])\n",
    "    plt.ylabel(Y)\n",
    "    \n",
    "    #Add text to the chart for labels\n",
    "    for i, v in enumerate(x):\n",
    "        ax.text(0.08, i, round(v,1), fontsize=10,color='white',weight='bold')\n",
    "        \n",
    "    plt.show()"
   ]
  },
  {
   "cell_type": "code",
   "execution_count": 48,
   "metadata": {},
   "outputs": [],
   "source": [
    "def table_function(dataframe,X,Y,N,asc=False):\n",
    "    '''This function takes an item you want to order (Y) and what you want to order it by (X)\n",
    "        so that you can see them in a table. \n",
    "        You can also choose how many items you want to appear in the table (N) and if you want\n",
    "        the top or bottom values\n",
    "        \n",
    "        INPUTS:\n",
    "        - dataframe\n",
    "        - X - the item you want to order by.This can be a vector if you want to order by multiple\n",
    "            things.\n",
    "        - Y - the item you want to be ordered\n",
    "        - N - this is the number of items you'd like to appear in the table\n",
    "        - asc -  this is a boolean variable that decides if you want it ascending or descending\n",
    "            this is automatically False (so shows top values)\n",
    "            \n",
    "        OUTPUT: \n",
    "        - Table with the inputs given\n",
    "    '''\n",
    "    #Create the dataframe by sorting by specific values and choosing the number you want to see\n",
    "    data = dataframe.sort_values(by=X, ascending=asc).head(N)\n",
    "    \n",
    "    #choose what columns we want to see (Y and X)\n",
    "    X.insert(0,Y)\n",
    "    \n",
    "    #return the data\n",
    "    data = data[X]\n",
    "    return data"
   ]
  },
  {
   "cell_type": "code",
   "execution_count": 49,
   "metadata": {},
   "outputs": [],
   "source": [
    "#For some of these we are going to want to plot some nice visualisations showing looking for correlation\n",
    "#Therefore I am going to create a function that allows to plot this easily:\n",
    "\n",
    "def scatter_graph_function(dataframe,X,Y):\n",
    "    '''This function takes an item you want X and what you want to plot it against Y \n",
    "        INPUTS:\n",
    "        - dataframe\n",
    "        - X - the item you want on the X axis (this is not a vector)\n",
    "        - Y - the item you want on the Y axis\n",
    "        OUTPUT: \n",
    "        - Bar graph of X and Y\n",
    "    '''    \n",
    "    #do a scatter plot of X against Y\n",
    "    plt.scatter(dataframe[X],dataframe[Y])\n",
    "    plt.title('Scatter Graph showing ' + X.replace('_',' ').title() + ' against '+ Y.replace('_',' ').title())\n",
    " \n",
    "    plt.show()"
   ]
  },
  {
   "cell_type": "markdown",
   "metadata": {},
   "source": [
    "## Evaluation - ANALYSE/VISUALISE"
   ]
  },
  {
   "cell_type": "markdown",
   "metadata": {},
   "source": [
    "### 1. What are the highest rating books?"
   ]
  },
  {
   "cell_type": "markdown",
   "metadata": {},
   "source": [
    "In this section we are going to show the top rated books:"
   ]
  },
  {
   "cell_type": "code",
   "execution_count": 50,
   "metadata": {},
   "outputs": [
    {
     "data": {
      "image/png": "[encoded data removed]",
      "text/plain": [
       "<Figure size 864x720 with 1 Axes>"
      ]
     },
     "metadata": {
      "needs_background": "light"
     },
     "output_type": "display_data"
    }
   ],
   "source": [
    "#Plot the top 10 titles by rating\n",
    "bar_plot_function(df_unique,['rating'],'title',10)"
   ]
  },
  {
   "cell_type": "code",
   "execution_count": 51,
   "metadata": {},
   "outputs": [
    {
     "data": {
      "text/html": [
       "<div>\n",
       "<style scoped>\n",
       "    .dataframe tbody tr th:only-of-type {\n",
       "        vertical-align: middle;\n",
       "    }\n",
       "\n",
       "    .dataframe tbody tr th {\n",
       "        vertical-align: top;\n",
       "    }\n",
       "\n",
       "    .dataframe thead th {\n",
       "        text-align: right;\n",
       "    }\n",
       "</style>\n",
       "<table border=\"1\" class=\"dataframe\">\n",
       "  <thead>\n",
       "    <tr style=\"text-align: right;\">\n",
       "      <th></th>\n",
       "      <th>title</th>\n",
       "      <th>rating</th>\n",
       "    </tr>\n",
       "  </thead>\n",
       "  <tbody>\n",
       "    <tr>\n",
       "      <th>232</th>\n",
       "      <td>(FREE SAMPLE) Super 10 Sample Papers for CBSE ...</td>\n",
       "      <td>5.0</td>\n",
       "    </tr>\n",
       "    <tr>\n",
       "      <th>24</th>\n",
       "      <td>Critical Role Vox Machina: Origins: Volume 1</td>\n",
       "      <td>5.0</td>\n",
       "    </tr>\n",
       "    <tr>\n",
       "      <th>50</th>\n",
       "      <td>Competitive Advantage: Creating and Sustaining...</td>\n",
       "      <td>5.0</td>\n",
       "    </tr>\n",
       "    <tr>\n",
       "      <th>63</th>\n",
       "      <td>Final Option: 'The best one yet'</td>\n",
       "      <td>5.0</td>\n",
       "    </tr>\n",
       "    <tr>\n",
       "      <th>17</th>\n",
       "      <td>That Time I got Reincarnated as a Slime 11</td>\n",
       "      <td>5.0</td>\n",
       "    </tr>\n",
       "    <tr>\n",
       "      <th>16</th>\n",
       "      <td>My Little Pony: Friendship is Magic #83</td>\n",
       "      <td>5.0</td>\n",
       "    </tr>\n",
       "    <tr>\n",
       "      <th>73</th>\n",
       "      <td>Battle Sight Zero</td>\n",
       "      <td>5.0</td>\n",
       "    </tr>\n",
       "    <tr>\n",
       "      <th>14</th>\n",
       "      <td>The Red Signal: An Agatha Christie Short Story</td>\n",
       "      <td>5.0</td>\n",
       "    </tr>\n",
       "    <tr>\n",
       "      <th>87</th>\n",
       "      <td>My Little Pony: The Feats of Friendship #2</td>\n",
       "      <td>5.0</td>\n",
       "    </tr>\n",
       "    <tr>\n",
       "      <th>125</th>\n",
       "      <td>15 Delicious Slow Cooker Recipes</td>\n",
       "      <td>5.0</td>\n",
       "    </tr>\n",
       "  </tbody>\n",
       "</table>\n",
       "</div>"
      ],
      "text/plain": [
       "                                                 title  rating\n",
       "232  (FREE SAMPLE) Super 10 Sample Papers for CBSE ...     5.0\n",
       "24        Critical Role Vox Machina: Origins: Volume 1     5.0\n",
       "50   Competitive Advantage: Creating and Sustaining...     5.0\n",
       "63                    Final Option: 'The best one yet'     5.0\n",
       "17          That Time I got Reincarnated as a Slime 11     5.0\n",
       "16             My Little Pony: Friendship is Magic #83     5.0\n",
       "73                                   Battle Sight Zero     5.0\n",
       "14      The Red Signal: An Agatha Christie Short Story     5.0\n",
       "87          My Little Pony: The Feats of Friendship #2     5.0\n",
       "125                   15 Delicious Slow Cooker Recipes     5.0"
      ]
     },
     "execution_count": 51,
     "metadata": {},
     "output_type": "execute_result"
    }
   ],
   "source": [
    "#Show the table of top 10 items by rating\n",
    "table_function(df_unique,['rating'],'title',10)"
   ]
  },
  {
   "cell_type": "code",
   "execution_count": 52,
   "metadata": {},
   "outputs": [
    {
     "name": "stdout",
     "output_type": "stream",
     "text": [
      "The number of books with a 5 star rating is: 76\n"
     ]
    }
   ],
   "source": [
    "## We can see there are multiple with the same 5 star rating which is why we create popularity rating\n",
    "print ('The number of books with a 5 star rating is: ' + str(df_cleaned[df_cleaned['rating']==5]['title'].count()))"
   ]
  },
  {
   "cell_type": "markdown",
   "metadata": {},
   "source": [
    "As you can see from the table it automatically showed the top 10 of the 76 5 star rated books, but by alphabetical order. This isn't the best way to order them, as it would be better to order them by popularity (ie the number of times they have been voted). This is why we allowed a vector to be entered into the function:"
   ]
  },
  {
   "cell_type": "code",
   "execution_count": 53,
   "metadata": {},
   "outputs": [
    {
     "data": {
      "image/png": "[encoded data removed]",
      "text/plain": [
       "<Figure size 864x720 with 1 Axes>"
      ]
     },
     "metadata": {
      "needs_background": "light"
     },
     "output_type": "display_data"
    }
   ],
   "source": [
    "#Plot the top 10 title by rating, but also order by voters\n",
    "bar_plot_function(df_unique,['rating','voters'],'title',10)"
   ]
  },
  {
   "cell_type": "code",
   "execution_count": 54,
   "metadata": {},
   "outputs": [
    {
     "data": {
      "text/html": [
       "<div>\n",
       "<style scoped>\n",
       "    .dataframe tbody tr th:only-of-type {\n",
       "        vertical-align: middle;\n",
       "    }\n",
       "\n",
       "    .dataframe tbody tr th {\n",
       "        vertical-align: top;\n",
       "    }\n",
       "\n",
       "    .dataframe thead th {\n",
       "        text-align: right;\n",
       "    }\n",
       "</style>\n",
       "<table border=\"1\" class=\"dataframe\">\n",
       "  <thead>\n",
       "    <tr style=\"text-align: right;\">\n",
       "      <th></th>\n",
       "      <th>title</th>\n",
       "      <th>rating</th>\n",
       "      <th>voters</th>\n",
       "    </tr>\n",
       "  </thead>\n",
       "  <tbody>\n",
       "    <tr>\n",
       "      <th>24</th>\n",
       "      <td>Critical Role Vox Machina: Origins: Volume 1</td>\n",
       "      <td>5.0</td>\n",
       "      <td>15</td>\n",
       "    </tr>\n",
       "    <tr>\n",
       "      <th>17</th>\n",
       "      <td>That Time I got Reincarnated as a Slime 11</td>\n",
       "      <td>5.0</td>\n",
       "      <td>13</td>\n",
       "    </tr>\n",
       "    <tr>\n",
       "      <th>183</th>\n",
       "      <td>The Queen of Nothing (The Folk of the Air #3)</td>\n",
       "      <td>5.0</td>\n",
       "      <td>11</td>\n",
       "    </tr>\n",
       "    <tr>\n",
       "      <th>50</th>\n",
       "      <td>Competitive Advantage: Creating and Sustaining...</td>\n",
       "      <td>5.0</td>\n",
       "      <td>6</td>\n",
       "    </tr>\n",
       "    <tr>\n",
       "      <th>14</th>\n",
       "      <td>The Red Signal: An Agatha Christie Short Story</td>\n",
       "      <td>5.0</td>\n",
       "      <td>4</td>\n",
       "    </tr>\n",
       "    <tr>\n",
       "      <th>27</th>\n",
       "      <td>Tall Tales and Wee Stories: The Best of Billy ...</td>\n",
       "      <td>5.0</td>\n",
       "      <td>4</td>\n",
       "    </tr>\n",
       "    <tr>\n",
       "      <th>16</th>\n",
       "      <td>My Little Pony: Friendship is Magic #83</td>\n",
       "      <td>5.0</td>\n",
       "      <td>3</td>\n",
       "    </tr>\n",
       "    <tr>\n",
       "      <th>63</th>\n",
       "      <td>Final Option: 'The best one yet'</td>\n",
       "      <td>5.0</td>\n",
       "      <td>3</td>\n",
       "    </tr>\n",
       "    <tr>\n",
       "      <th>87</th>\n",
       "      <td>My Little Pony: The Feats of Friendship #2</td>\n",
       "      <td>5.0</td>\n",
       "      <td>3</td>\n",
       "    </tr>\n",
       "    <tr>\n",
       "      <th>125</th>\n",
       "      <td>15 Delicious Slow Cooker Recipes</td>\n",
       "      <td>5.0</td>\n",
       "      <td>3</td>\n",
       "    </tr>\n",
       "  </tbody>\n",
       "</table>\n",
       "</div>"
      ],
      "text/plain": [
       "                                                 title  rating  voters\n",
       "24        Critical Role Vox Machina: Origins: Volume 1     5.0      15\n",
       "17          That Time I got Reincarnated as a Slime 11     5.0      13\n",
       "183      The Queen of Nothing (The Folk of the Air #3)     5.0      11\n",
       "50   Competitive Advantage: Creating and Sustaining...     5.0       6\n",
       "14      The Red Signal: An Agatha Christie Short Story     5.0       4\n",
       "27   Tall Tales and Wee Stories: The Best of Billy ...     5.0       4\n",
       "16             My Little Pony: Friendship is Magic #83     5.0       3\n",
       "63                    Final Option: 'The best one yet'     5.0       3\n",
       "87          My Little Pony: The Feats of Friendship #2     5.0       3\n",
       "125                   15 Delicious Slow Cooker Recipes     5.0       3"
      ]
     },
     "execution_count": 54,
     "metadata": {},
     "output_type": "execute_result"
    }
   ],
   "source": [
    "#Show the top 10 title by rating, but also ordered by voters in a table\n",
    "table_function(df_unique,['rating','voters'],'title',10)"
   ]
  },
  {
   "cell_type": "markdown",
   "metadata": {},
   "source": [
    "Instead of viewing it this way we may want to see the most \"popular\" books by using our popularity rating metric"
   ]
  },
  {
   "cell_type": "code",
   "execution_count": 55,
   "metadata": {
    "scrolled": false
   },
   "outputs": [
    {
     "data": {
      "image/png": "[encoded data removed]",
      "text/plain": [
       "<Figure size 864x720 with 1 Axes>"
      ]
     },
     "metadata": {
      "needs_background": "light"
     },
     "output_type": "display_data"
    }
   ],
   "source": [
    "# Plot the top 10 titles by populartity rating\n",
    "bar_plot_function(df_unique,['popularity_rating'],'title',10)"
   ]
  },
  {
   "cell_type": "code",
   "execution_count": 56,
   "metadata": {},
   "outputs": [
    {
     "data": {
      "text/html": [
       "<div>\n",
       "<style scoped>\n",
       "    .dataframe tbody tr th:only-of-type {\n",
       "        vertical-align: middle;\n",
       "    }\n",
       "\n",
       "    .dataframe tbody tr th {\n",
       "        vertical-align: top;\n",
       "    }\n",
       "\n",
       "    .dataframe thead th {\n",
       "        text-align: right;\n",
       "    }\n",
       "</style>\n",
       "<table border=\"1\" class=\"dataframe\">\n",
       "  <thead>\n",
       "    <tr style=\"text-align: right;\">\n",
       "      <th></th>\n",
       "      <th>title</th>\n",
       "      <th>popularity_rating</th>\n",
       "    </tr>\n",
       "  </thead>\n",
       "  <tbody>\n",
       "    <tr>\n",
       "      <th>13</th>\n",
       "      <td>Deadpool Kills the Marvel Universe</td>\n",
       "      <td>161809.2</td>\n",
       "    </tr>\n",
       "    <tr>\n",
       "      <th>44</th>\n",
       "      <td>The Raven</td>\n",
       "      <td>127806.9</td>\n",
       "    </tr>\n",
       "    <tr>\n",
       "      <th>37</th>\n",
       "      <td>Ready Player One</td>\n",
       "      <td>81507.4</td>\n",
       "    </tr>\n",
       "    <tr>\n",
       "      <th>55</th>\n",
       "      <td>A Game of Thrones: A Song of Ice and Fire: Boo...</td>\n",
       "      <td>48990.0</td>\n",
       "    </tr>\n",
       "    <tr>\n",
       "      <th>159</th>\n",
       "      <td>The Secret</td>\n",
       "      <td>38552.3</td>\n",
       "    </tr>\n",
       "    <tr>\n",
       "      <th>39</th>\n",
       "      <td>How To Win Friends and Influence People</td>\n",
       "      <td>28444.5</td>\n",
       "    </tr>\n",
       "    <tr>\n",
       "      <th>47</th>\n",
       "      <td>Civil War: Volume 1</td>\n",
       "      <td>23296.5</td>\n",
       "    </tr>\n",
       "    <tr>\n",
       "      <th>172</th>\n",
       "      <td>The Walking Dead: Compendium 1</td>\n",
       "      <td>20398.5</td>\n",
       "    </tr>\n",
       "    <tr>\n",
       "      <th>85</th>\n",
       "      <td>The Name of the Wind: The Kingkiller Chronicle...</td>\n",
       "      <td>20136.9</td>\n",
       "    </tr>\n",
       "    <tr>\n",
       "      <th>146</th>\n",
       "      <td>The Power of Habit: Why We Do What We Do in Li...</td>\n",
       "      <td>19475.0</td>\n",
       "    </tr>\n",
       "  </tbody>\n",
       "</table>\n",
       "</div>"
      ],
      "text/plain": [
       "                                                 title  popularity_rating\n",
       "13                  Deadpool Kills the Marvel Universe           161809.2\n",
       "44                                           The Raven           127806.9\n",
       "37                                    Ready Player One            81507.4\n",
       "55   A Game of Thrones: A Song of Ice and Fire: Boo...            48990.0\n",
       "159                                         The Secret            38552.3\n",
       "39             How To Win Friends and Influence People            28444.5\n",
       "47                                 Civil War: Volume 1            23296.5\n",
       "172                     The Walking Dead: Compendium 1            20398.5\n",
       "85   The Name of the Wind: The Kingkiller Chronicle...            20136.9\n",
       "146  The Power of Habit: Why We Do What We Do in Li...            19475.0"
      ]
     },
     "execution_count": 56,
     "metadata": {},
     "output_type": "execute_result"
    }
   ],
   "source": [
    "#Show this in a table\n",
    "table_function(df_unique,['popularity_rating'],'title',10)"
   ]
  },
  {
   "cell_type": "markdown",
   "metadata": {},
   "source": [
    "### 2. Who are the highest rating authors?"
   ]
  },
  {
   "cell_type": "markdown",
   "metadata": {},
   "source": [
    "In this section we are going to the same by now by author. This would be more interesting in a larger data set as an author may have written multiple highly rated books. However, as we have very few books in this data set it is likely that the author will correspond to the book in the previous question."
   ]
  },
  {
   "cell_type": "code",
   "execution_count": 57,
   "metadata": {},
   "outputs": [
    {
     "data": {
      "image/png": "[encoded data removed]",
      "text/plain": [
       "<Figure size 864x720 with 1 Axes>"
      ]
     },
     "metadata": {
      "needs_background": "light"
     },
     "output_type": "display_data"
    }
   ],
   "source": [
    "#Plot the top 10 authors by rating and then by voters\n",
    "bar_plot_function(df_unique,['rating','voters'],'author',10)"
   ]
  },
  {
   "cell_type": "code",
   "execution_count": 58,
   "metadata": {},
   "outputs": [
    {
     "data": {
      "text/html": [
       "<div>\n",
       "<style scoped>\n",
       "    .dataframe tbody tr th:only-of-type {\n",
       "        vertical-align: middle;\n",
       "    }\n",
       "\n",
       "    .dataframe tbody tr th {\n",
       "        vertical-align: top;\n",
       "    }\n",
       "\n",
       "    .dataframe thead th {\n",
       "        text-align: right;\n",
       "    }\n",
       "</style>\n",
       "<table border=\"1\" class=\"dataframe\">\n",
       "  <thead>\n",
       "    <tr style=\"text-align: right;\">\n",
       "      <th></th>\n",
       "      <th>author</th>\n",
       "      <th>rating</th>\n",
       "      <th>voters</th>\n",
       "    </tr>\n",
       "  </thead>\n",
       "  <tbody>\n",
       "    <tr>\n",
       "      <th>24</th>\n",
       "      <td>Matthew Mercer</td>\n",
       "      <td>5.0</td>\n",
       "      <td>15</td>\n",
       "    </tr>\n",
       "    <tr>\n",
       "      <th>17</th>\n",
       "      <td>Story by FUSE</td>\n",
       "      <td>5.0</td>\n",
       "      <td>13</td>\n",
       "    </tr>\n",
       "    <tr>\n",
       "      <th>183</th>\n",
       "      <td>Holly Black</td>\n",
       "      <td>5.0</td>\n",
       "      <td>11</td>\n",
       "    </tr>\n",
       "    <tr>\n",
       "      <th>50</th>\n",
       "      <td>Michael E. Porter</td>\n",
       "      <td>5.0</td>\n",
       "      <td>6</td>\n",
       "    </tr>\n",
       "    <tr>\n",
       "      <th>14</th>\n",
       "      <td>Agatha Christie</td>\n",
       "      <td>5.0</td>\n",
       "      <td>4</td>\n",
       "    </tr>\n",
       "    <tr>\n",
       "      <th>27</th>\n",
       "      <td>Billy Connolly</td>\n",
       "      <td>5.0</td>\n",
       "      <td>4</td>\n",
       "    </tr>\n",
       "    <tr>\n",
       "      <th>16</th>\n",
       "      <td>Thom Zahler</td>\n",
       "      <td>5.0</td>\n",
       "      <td>3</td>\n",
       "    </tr>\n",
       "    <tr>\n",
       "      <th>63</th>\n",
       "      <td>Clive Cussler</td>\n",
       "      <td>5.0</td>\n",
       "      <td>3</td>\n",
       "    </tr>\n",
       "    <tr>\n",
       "      <th>87</th>\n",
       "      <td>Ian Flynn</td>\n",
       "      <td>5.0</td>\n",
       "      <td>3</td>\n",
       "    </tr>\n",
       "    <tr>\n",
       "      <th>125</th>\n",
       "      <td>Sallie Stone</td>\n",
       "      <td>5.0</td>\n",
       "      <td>3</td>\n",
       "    </tr>\n",
       "  </tbody>\n",
       "</table>\n",
       "</div>"
      ],
      "text/plain": [
       "                author  rating  voters\n",
       "24      Matthew Mercer     5.0      15\n",
       "17       Story by FUSE     5.0      13\n",
       "183        Holly Black     5.0      11\n",
       "50   Michael E. Porter     5.0       6\n",
       "14     Agatha Christie     5.0       4\n",
       "27      Billy Connolly     5.0       4\n",
       "16         Thom Zahler     5.0       3\n",
       "63       Clive Cussler     5.0       3\n",
       "87           Ian Flynn     5.0       3\n",
       "125       Sallie Stone     5.0       3"
      ]
     },
     "execution_count": 58,
     "metadata": {},
     "output_type": "execute_result"
    }
   ],
   "source": [
    "#Show the top 10 authors by rating and then by voters in  a table\n",
    "table_function(df_unique,['rating','voters'],'author',10)"
   ]
  },
  {
   "cell_type": "code",
   "execution_count": 59,
   "metadata": {},
   "outputs": [
    {
     "data": {
      "image/png": "[encoded data removed]",
      "text/plain": [
       "<Figure size 864x720 with 1 Axes>"
      ]
     },
     "metadata": {
      "needs_background": "light"
     },
     "output_type": "display_data"
    }
   ],
   "source": [
    "# Plot the top 10 authors by popularity rating\n",
    "bar_plot_function(df_unique,['popularity_rating'],'author',10)"
   ]
  },
  {
   "cell_type": "code",
   "execution_count": 60,
   "metadata": {},
   "outputs": [
    {
     "data": {
      "text/html": [
       "<div>\n",
       "<style scoped>\n",
       "    .dataframe tbody tr th:only-of-type {\n",
       "        vertical-align: middle;\n",
       "    }\n",
       "\n",
       "    .dataframe tbody tr th {\n",
       "        vertical-align: top;\n",
       "    }\n",
       "\n",
       "    .dataframe thead th {\n",
       "        text-align: right;\n",
       "    }\n",
       "</style>\n",
       "<table border=\"1\" class=\"dataframe\">\n",
       "  <thead>\n",
       "    <tr style=\"text-align: right;\">\n",
       "      <th></th>\n",
       "      <th>author</th>\n",
       "      <th>popularity_rating</th>\n",
       "    </tr>\n",
       "  </thead>\n",
       "  <tbody>\n",
       "    <tr>\n",
       "      <th>13</th>\n",
       "      <td>Cullen Bunn</td>\n",
       "      <td>161809.2</td>\n",
       "    </tr>\n",
       "    <tr>\n",
       "      <th>44</th>\n",
       "      <td>Edgar Allan Poe</td>\n",
       "      <td>127806.9</td>\n",
       "    </tr>\n",
       "    <tr>\n",
       "      <th>37</th>\n",
       "      <td>Ernest Cline</td>\n",
       "      <td>81507.4</td>\n",
       "    </tr>\n",
       "    <tr>\n",
       "      <th>55</th>\n",
       "      <td>George R. R. Martin</td>\n",
       "      <td>48990.0</td>\n",
       "    </tr>\n",
       "    <tr>\n",
       "      <th>159</th>\n",
       "      <td>Rhonda Byrne</td>\n",
       "      <td>38552.3</td>\n",
       "    </tr>\n",
       "    <tr>\n",
       "      <th>39</th>\n",
       "      <td>Dale Carnegie</td>\n",
       "      <td>28444.5</td>\n",
       "    </tr>\n",
       "    <tr>\n",
       "      <th>47</th>\n",
       "      <td>Mark Millar</td>\n",
       "      <td>23296.5</td>\n",
       "    </tr>\n",
       "    <tr>\n",
       "      <th>172</th>\n",
       "      <td>Robert Kirkman</td>\n",
       "      <td>20398.5</td>\n",
       "    </tr>\n",
       "    <tr>\n",
       "      <th>85</th>\n",
       "      <td>Patrick Rothfuss</td>\n",
       "      <td>20136.9</td>\n",
       "    </tr>\n",
       "    <tr>\n",
       "      <th>146</th>\n",
       "      <td>Charles Duhigg</td>\n",
       "      <td>19475.0</td>\n",
       "    </tr>\n",
       "  </tbody>\n",
       "</table>\n",
       "</div>"
      ],
      "text/plain": [
       "                  author  popularity_rating\n",
       "13           Cullen Bunn           161809.2\n",
       "44       Edgar Allan Poe           127806.9\n",
       "37          Ernest Cline            81507.4\n",
       "55   George R. R. Martin            48990.0\n",
       "159         Rhonda Byrne            38552.3\n",
       "39         Dale Carnegie            28444.5\n",
       "47           Mark Millar            23296.5\n",
       "172       Robert Kirkman            20398.5\n",
       "85      Patrick Rothfuss            20136.9\n",
       "146       Charles Duhigg            19475.0"
      ]
     },
     "execution_count": 60,
     "metadata": {},
     "output_type": "execute_result"
    }
   ],
   "source": [
    "#Show the corresponding table\n",
    "table_function(df_unique,['popularity_rating'],'author',10)"
   ]
  },
  {
   "cell_type": "markdown",
   "metadata": {},
   "source": [
    "### 3. Does length of the book impact the rating?"
   ]
  },
  {
   "cell_type": "markdown",
   "metadata": {},
   "source": [
    "In this section we would like to see if there is any correlation between page count and rating:"
   ]
  },
  {
   "cell_type": "code",
   "execution_count": 61,
   "metadata": {},
   "outputs": [
    {
     "data": {
      "image/png": "[encoded data removed]",
      "text/plain": [
       "<Figure size 432x288 with 1 Axes>"
      ]
     },
     "metadata": {
      "needs_background": "light"
     },
     "output_type": "display_data"
    }
   ],
   "source": [
    " #plot page count by rating\n",
    "scatter_graph_function(df_unique,'page_count', 'rating')"
   ]
  },
  {
   "cell_type": "markdown",
   "metadata": {},
   "source": [
    "This graph is clearly skewed by an outlier so we will edit the dataframe to show only books with a max page limit"
   ]
  },
  {
   "cell_type": "code",
   "execution_count": 62,
   "metadata": {},
   "outputs": [
    {
     "data": {
      "image/png": "[encoded data removed]",
      "text/plain": [
       "<Figure size 432x288 with 1 Axes>"
      ]
     },
     "metadata": {
      "needs_background": "light"
     },
     "output_type": "display_data"
    }
   ],
   "source": [
    " #plot page count by rating (only where page count is less than 4000)\n",
    "scatter_graph_function(df_unique[df_unique['page_count']<4000],'page_count', 'rating')"
   ]
  },
  {
   "cell_type": "code",
   "execution_count": 63,
   "metadata": {},
   "outputs": [
    {
     "data": {
      "text/plain": [
       "array([[1.        , 0.07725605],\n",
       "       [0.07725605, 1.        ]])"
      ]
     },
     "execution_count": 63,
     "metadata": {},
     "output_type": "execute_result"
    }
   ],
   "source": [
    "#check the correlation coefficient\n",
    "np.corrcoef(df_unique[df_unique['page_count']<4000]['rating'],df_unique[df_unique['page_count']<4000]['page_count'])"
   ]
  },
  {
   "cell_type": "markdown",
   "metadata": {},
   "source": [
    "There is very little correlation between length and rating from this graph and also the correlation coefficient. This may be more interesting to explore in a larger data set."
   ]
  },
  {
   "cell_type": "markdown",
   "metadata": {},
   "source": [
    "### 4. Does price of the book impact the rating?"
   ]
  },
  {
   "cell_type": "markdown",
   "metadata": {},
   "source": [
    "We will now see if price of book has a relationship with rating"
   ]
  },
  {
   "cell_type": "code",
   "execution_count": 64,
   "metadata": {},
   "outputs": [
    {
     "data": {
      "image/png": "[encoded data removed]",
      "text/plain": [
       "<Figure size 432x288 with 1 Axes>"
      ]
     },
     "metadata": {
      "needs_background": "light"
     },
     "output_type": "display_data"
    }
   ],
   "source": [
    "#plot rating by price\n",
    "scatter_graph_function(df_unique,'price','rating')"
   ]
  },
  {
   "cell_type": "code",
   "execution_count": 65,
   "metadata": {},
   "outputs": [
    {
     "data": {
      "text/plain": [
       "array([[ 1.        , -0.22941686],\n",
       "       [-0.22941686,  1.        ]])"
      ]
     },
     "execution_count": 65,
     "metadata": {},
     "output_type": "execute_result"
    }
   ],
   "source": [
    "#check this correlation coefficient\n",
    "np.corrcoef(df_unique['rating'],df_unique['price'])"
   ]
  },
  {
   "cell_type": "markdown",
   "metadata": {},
   "source": [
    "This shows a stronger negative correlation, but still is a mild correlation"
   ]
  },
  {
   "cell_type": "code",
   "execution_count": 66,
   "metadata": {},
   "outputs": [
    {
     "data": {
      "text/plain": [
       "array([[ 1.        , -0.08891849],\n",
       "       [-0.08891849,  1.        ]])"
      ]
     },
     "execution_count": 66,
     "metadata": {},
     "output_type": "execute_result"
    }
   ],
   "source": [
    "#check this again but whilst removing the outlier\n",
    "np.corrcoef(df_unique[df_unique['price']<200]['rating'],df_unique[df_unique['price']<200]['price'])"
   ]
  },
  {
   "cell_type": "markdown",
   "metadata": {},
   "source": [
    "### 5. What genre of film appears most often?"
   ]
  },
  {
   "cell_type": "markdown",
   "metadata": {},
   "source": [
    "I am not interested to see what genres appear the most in the data set:"
   ]
  },
  {
   "cell_type": "code",
   "execution_count": 67,
   "metadata": {
    "scrolled": false
   },
   "outputs": [],
   "source": [
    "#Get a list of all the genres in the data set:\n",
    "full_genre_list = []\n",
    "for i in df_unique['genres']:\n",
    "    #if it is an empty list we will skip through\n",
    "    if i==[]:\n",
    "        pass\n",
    "    else:\n",
    "        #Otherwise we go through every element in that list\n",
    "        # We do not care about duplicates here\n",
    "        for j in range(len(i)):\n",
    "            full_genre_list.append(i[j])"
   ]
  },
  {
   "cell_type": "code",
   "execution_count": 68,
   "metadata": {},
   "outputs": [
    {
     "data": {
      "image/png": "[encoded data removed]",
      "text/plain": [
       "<Figure size 864x720 with 1 Axes>"
      ]
     },
     "metadata": {
      "needs_background": "light"
     },
     "output_type": "display_data"
    }
   ],
   "source": [
    "#Plot the count plot of the genres@\n",
    "plt.subplots(figsize=(12,10))\n",
    "\n",
    "ax = pd.Series(full_genre_list).value_counts()[:10].sort_values(\n",
    "    ascending=True).plot.barh(width=0.9,color=sns.color_palette('hls',10))\n",
    "\n",
    "#Label the bars\n",
    "for i, v in enumerate(pd.Series(full_genre_list).value_counts()[:10].sort_values(ascending=True).values): \n",
    "    ax.text(.8, i, v,fontsize=10,color='white',weight='bold')\n",
    "    \n",
    "plt.title('Top Genres')\n",
    "plt.show()"
   ]
  },
  {
   "cell_type": "code",
   "execution_count": 69,
   "metadata": {},
   "outputs": [
    {
     "data": {
      "image/png": "[encoded data removed]",
      "text/plain": [
       "<Figure size 864x720 with 1 Axes>"
      ]
     },
     "metadata": {
      "needs_background": "light"
     },
     "output_type": "display_data"
    }
   ],
   "source": [
    "#Plot the count plot of the genres@\n",
    "plt.subplots(figsize=(12,10))\n",
    "\n",
    "ax = pd.Series(full_genre_list).value_counts()[:20].sort_values(\n",
    "    ascending=True).plot.barh(width=0.9,color=sns.color_palette('hls',20))\n",
    "\n",
    "#Label the genres\n",
    "for i, v in enumerate(pd.Series(full_genre_list).value_counts()[:20].sort_values(ascending=True).values): \n",
    "    ax.text(.8, i, v,fontsize=10,color='white',weight='bold')\n",
    "    \n",
    "plt.title('Top Genres')\n",
    "plt.show()"
   ]
  },
  {
   "cell_type": "markdown",
   "metadata": {},
   "source": [
    "## Learnings"
   ]
  },
  {
   "cell_type": "markdown",
   "metadata": {},
   "source": [
    "My analysis of the data can be found in my medium blog post: https://medium.com/@samanthahakes/what-makes-a-good-book-1440b80d6ada\n",
    "\n",
    "Unfortunately, when picking this data set there appeared to be a larger set of books than there were, this was due to duplication. Because of this it meant I was not able to build a machine learning model nor get any reliable conclusions from the data. However, this data set was very helpful in teaching me how to clean data."
   ]
  },
  {
   "cell_type": "code",
   "execution_count": null,
   "metadata": {},
   "outputs": [],
   "source": []
  }
 ],
 "metadata": {
  "kernelspec": {
   "display_name": "Python 3",
   "language": "python",
   "name": "python3"
  },
  "language_info": {
   "codemirror_mode": {
    "name": "ipython",
    "version": 3
   },
   "file_extension": ".py",
   "mimetype": "text/x-python",
   "name": "python",
   "nbconvert_exporter": "python",
   "pygments_lexer": "ipython3",
   "version": "3.7.3"
  }
 },
 "nbformat": 4,
 "nbformat_minor": 2
}
